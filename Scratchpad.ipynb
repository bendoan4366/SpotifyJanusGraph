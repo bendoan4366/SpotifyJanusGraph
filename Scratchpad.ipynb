{
 "cells": [
  {
   "cell_type": "code",
   "execution_count": 1,
   "metadata": {},
   "outputs": [],
   "source": [
    "import os\n",
    "import spotipy\n",
    "from spotipy.oauth2 import SpotifyClientCredentials\n",
    "\n",
    "import pandas as pd"
   ]
  },
  {
   "cell_type": "code",
   "execution_count": 2,
   "metadata": {},
   "outputs": [],
   "source": [
    "# extract credentials from environment variabes and instantiate session\n",
    "auth_manager = SpotifyClientCredentials()\n",
    "sp = spotipy.Spotify(auth_manager=auth_manager)"
   ]
  },
  {
   "cell_type": "code",
   "execution_count": 3,
   "metadata": {},
   "outputs": [],
   "source": [
    "def get_user_playlists_dataframe(spotipy, user):\n",
    "    user_playlists = spotipy.user_playlists(user)\n",
    "    playlist_dataframe = pd.DataFrame.from_dict(user_playlists['items'])\n",
    "\n",
    "    return playlist_dataframe\n",
    "\n",
    "def get_playlist_items(spotipy, playlist_id):\n",
    "    playlist_items = spotipy.playlist_items(playlist_id)\n",
    "    playlist_tracks = [sub['track'] for sub in playlist_items['items']]\n",
    "    playlist_items_dataframe = pd.DataFrame.from_dict(playlist_tracks)\n",
    "\n",
    "    return playlist_items_dataframe\n",
    "\n",
    "def get_playlist_items_from_list(spotipy, user):\n",
    "    playlist_dataframe= get_user_playlists_dataframe(spotipy, user)\n",
    "    playlist_id_list= playlist_dataframe[\"id\"].tolist()\n",
    "    \n",
    "    playlist_item_ids_dataframe = pd.DataFrame(columns=[\"id\", \"name\"])\n",
    "    \n",
    "    for playlist_id in playlist_id_list:\n",
    "        playlist_items_dataframe = get_playlist_items(spotipy, playlist_id)\n",
    "        playlist_item_ids_dataframe = playlist_item_ids_dataframe.append(playlist_items_dataframe[[\"id\", \"name\"]])\n",
    "        \n",
    "    return playlist_item_ids_dataframe\n",
    "\n",
    "def get_track_audio_features(spotipy, track_id):\n",
    "    track_audio_features = spotipy.audio_features(track_id)\n",
    "\n",
    "    return track_audio_features\n",
    "\n",
    "\n",
    "def get_playlist_tracks_audio_features(spotipy, user):\n",
    "    playlist_items_dataframe=get_playlist_items_from_list(spotipy, user)\n",
    "    \n",
    "    playlist_track_ids_list = playlist_items_dataframe[\"id\"].tolist()\n",
    "    print(playlist_track_ids_list)\n",
    "    playlist_audio_features = get_track_audio_features(spotipy, playlist_track_ids_list)\n",
    "    \n",
    "    playlist_audio_features_dataframe = pd.DataFrame.from_dict(playlist_audio_features)\n",
    "    \n",
    "    return playlist_audio_features_dataframe"
   ]
  },
  {
   "cell_type": "code",
   "execution_count": 4,
   "metadata": {},
   "outputs": [],
   "source": [
    "myPlaylists = get_user_playlists_dataframe(sp, \"ben.doan4366\")\n",
    "ids = myPlaylists[\"id\"].tolist()"
   ]
  },
  {
   "cell_type": "code",
   "execution_count": 6,
   "metadata": {},
   "outputs": [],
   "source": [
    "tracks = get_playlist_items(sp, \"51M1PfaricmfiaFbJPFggl\")"
   ]
  },
  {
   "cell_type": "code",
   "execution_count": 7,
   "metadata": {},
   "outputs": [
    {
     "data": {
      "text/html": [
       "<div>\n",
       "<style scoped>\n",
       "    .dataframe tbody tr th:only-of-type {\n",
       "        vertical-align: middle;\n",
       "    }\n",
       "\n",
       "    .dataframe tbody tr th {\n",
       "        vertical-align: top;\n",
       "    }\n",
       "\n",
       "    .dataframe thead th {\n",
       "        text-align: right;\n",
       "    }\n",
       "</style>\n",
       "<table border=\"1\" class=\"dataframe\">\n",
       "  <thead>\n",
       "    <tr style=\"text-align: right;\">\n",
       "      <th></th>\n",
       "      <th>id</th>\n",
       "      <th>name</th>\n",
       "    </tr>\n",
       "  </thead>\n",
       "  <tbody>\n",
       "    <tr>\n",
       "      <td>0</td>\n",
       "      <td>5p4drVwua5J1BYgqhrMwWa</td>\n",
       "      <td>NO WAY (feat. Isaiah Rashad, Joey Purp &amp; Ambré)</td>\n",
       "    </tr>\n",
       "    <tr>\n",
       "      <td>1</td>\n",
       "      <td>0qLt7pQhm8LDxFgI0YXdlY</td>\n",
       "      <td>Heavenly Father</td>\n",
       "    </tr>\n",
       "    <tr>\n",
       "      <td>2</td>\n",
       "      <td>0M5pEUmRD3b4nP31L88IdL</td>\n",
       "      <td>Why Worry</td>\n",
       "    </tr>\n",
       "    <tr>\n",
       "      <td>3</td>\n",
       "      <td>0Kz9aGVgFvndWkcaiylIt5</td>\n",
       "      <td>Warm Winds (feat. Isaiah Rashad)</td>\n",
       "    </tr>\n",
       "    <tr>\n",
       "      <td>4</td>\n",
       "      <td>2fXwCWkh6YG5zU1IyvQrbs</td>\n",
       "      <td>Broken Clocks</td>\n",
       "    </tr>\n",
       "    <tr>\n",
       "      <td>5</td>\n",
       "      <td>2rFTRICumonxxZKxxfEu8R</td>\n",
       "      <td>Headshots (4r Da Locals)</td>\n",
       "    </tr>\n",
       "    <tr>\n",
       "      <td>6</td>\n",
       "      <td>5jDpJZ4AV0YVV8o9Ez2U9s</td>\n",
       "      <td>Pick Up Your Phone</td>\n",
       "    </tr>\n",
       "    <tr>\n",
       "      <td>7</td>\n",
       "      <td>5B0kgjHULYJhAQkK5XsMoC</td>\n",
       "      <td>WUSYANAME (feat. Youngboy Never Broke Again &amp; ...</td>\n",
       "    </tr>\n",
       "    <tr>\n",
       "      <td>8</td>\n",
       "      <td>4Tla2jt77nO70DgGwFejbK</td>\n",
       "      <td>Run It Up</td>\n",
       "    </tr>\n",
       "  </tbody>\n",
       "</table>\n",
       "</div>"
      ],
      "text/plain": [
       "                       id                                               name\n",
       "0  5p4drVwua5J1BYgqhrMwWa    NO WAY (feat. Isaiah Rashad, Joey Purp & Ambré)\n",
       "1  0qLt7pQhm8LDxFgI0YXdlY                                    Heavenly Father\n",
       "2  0M5pEUmRD3b4nP31L88IdL                                          Why Worry\n",
       "3  0Kz9aGVgFvndWkcaiylIt5                   Warm Winds (feat. Isaiah Rashad)\n",
       "4  2fXwCWkh6YG5zU1IyvQrbs                                      Broken Clocks\n",
       "5  2rFTRICumonxxZKxxfEu8R                           Headshots (4r Da Locals)\n",
       "6  5jDpJZ4AV0YVV8o9Ez2U9s                                 Pick Up Your Phone\n",
       "7  5B0kgjHULYJhAQkK5XsMoC  WUSYANAME (feat. Youngboy Never Broke Again & ...\n",
       "8  4Tla2jt77nO70DgGwFejbK                                          Run It Up"
      ]
     },
     "execution_count": 7,
     "metadata": {},
     "output_type": "execute_result"
    }
   ],
   "source": [
    "tracks[[\"id\", \"name\"]]"
   ]
  },
  {
   "cell_type": "code",
   "execution_count": 49,
   "metadata": {},
   "outputs": [],
   "source": [
    "features = get_playlist_tracks_audio_features(sp, \"51M1PfaricmfiaFbJPFggl\")"
   ]
  },
  {
   "cell_type": "code",
   "execution_count": 9,
   "metadata": {},
   "outputs": [],
   "source": [
    "all_playlist_items = get_playlist_items(sp, \"51M1PfaricmfiaFbJPFggl\")"
   ]
  },
  {
   "cell_type": "code",
   "execution_count": 10,
   "metadata": {},
   "outputs": [],
   "source": [
    "testlist = all_playlist_items[\"id\"].tolist()"
   ]
  },
  {
   "cell_type": "code",
   "execution_count": 21,
   "metadata": {},
   "outputs": [],
   "source": [
    "playlist_audio_features = get_track_audio_features(sp, testlist)"
   ]
  },
  {
   "cell_type": "code",
   "execution_count": 22,
   "metadata": {},
   "outputs": [
    {
     "data": {
      "text/plain": [
       "[{'danceability': 0.51,\n",
       "  'energy': 0.73,\n",
       "  'key': 6,\n",
       "  'loudness': -6.597,\n",
       "  'mode': 1,\n",
       "  'speechiness': 0.399,\n",
       "  'acousticness': 0.536,\n",
       "  'instrumentalness': 0.00011,\n",
       "  'liveness': 0.142,\n",
       "  'valence': 0.605,\n",
       "  'tempo': 166.424,\n",
       "  'type': 'audio_features',\n",
       "  'id': '5p4drVwua5J1BYgqhrMwWa',\n",
       "  'uri': 'spotify:track:5p4drVwua5J1BYgqhrMwWa',\n",
       "  'track_href': 'https://api.spotify.com/v1/tracks/5p4drVwua5J1BYgqhrMwWa',\n",
       "  'analysis_url': 'https://api.spotify.com/v1/audio-analysis/5p4drVwua5J1BYgqhrMwWa',\n",
       "  'duration_ms': 204077,\n",
       "  'time_signature': 4},\n",
       " {'danceability': 0.608,\n",
       "  'energy': 0.676,\n",
       "  'key': 1,\n",
       "  'loudness': -7.56,\n",
       "  'mode': 1,\n",
       "  'speechiness': 0.248,\n",
       "  'acousticness': 0.212,\n",
       "  'instrumentalness': 0,\n",
       "  'liveness': 0.347,\n",
       "  'valence': 0.57,\n",
       "  'tempo': 80.939,\n",
       "  'type': 'audio_features',\n",
       "  'id': '0qLt7pQhm8LDxFgI0YXdlY',\n",
       "  'uri': 'spotify:track:0qLt7pQhm8LDxFgI0YXdlY',\n",
       "  'track_href': 'https://api.spotify.com/v1/tracks/0qLt7pQhm8LDxFgI0YXdlY',\n",
       "  'analysis_url': 'https://api.spotify.com/v1/audio-analysis/0qLt7pQhm8LDxFgI0YXdlY',\n",
       "  'duration_ms': 260632,\n",
       "  'time_signature': 4},\n",
       " {'danceability': 0.287,\n",
       "  'energy': 0.87,\n",
       "  'key': 1,\n",
       "  'loudness': -6.689,\n",
       "  'mode': 0,\n",
       "  'speechiness': 0.293,\n",
       "  'acousticness': 0.00291,\n",
       "  'instrumentalness': 0,\n",
       "  'liveness': 0.0609,\n",
       "  'valence': 0.681,\n",
       "  'tempo': 81.162,\n",
       "  'type': 'audio_features',\n",
       "  'id': '0M5pEUmRD3b4nP31L88IdL',\n",
       "  'uri': 'spotify:track:0M5pEUmRD3b4nP31L88IdL',\n",
       "  'track_href': 'https://api.spotify.com/v1/tracks/0M5pEUmRD3b4nP31L88IdL',\n",
       "  'analysis_url': 'https://api.spotify.com/v1/audio-analysis/0M5pEUmRD3b4nP31L88IdL',\n",
       "  'duration_ms': 150562,\n",
       "  'time_signature': 4},\n",
       " {'danceability': 0.387,\n",
       "  'energy': 0.505,\n",
       "  'key': 7,\n",
       "  'loudness': -8.579,\n",
       "  'mode': 1,\n",
       "  'speechiness': 0.247,\n",
       "  'acousticness': 0.259,\n",
       "  'instrumentalness': 0.000133,\n",
       "  'liveness': 0.564,\n",
       "  'valence': 0.158,\n",
       "  'tempo': 84.942,\n",
       "  'type': 'audio_features',\n",
       "  'id': '0Kz9aGVgFvndWkcaiylIt5',\n",
       "  'uri': 'spotify:track:0Kz9aGVgFvndWkcaiylIt5',\n",
       "  'track_href': 'https://api.spotify.com/v1/tracks/0Kz9aGVgFvndWkcaiylIt5',\n",
       "  'analysis_url': 'https://api.spotify.com/v1/audio-analysis/0Kz9aGVgFvndWkcaiylIt5',\n",
       "  'duration_ms': 350912,\n",
       "  'time_signature': 4},\n",
       " {'danceability': 0.692,\n",
       "  'energy': 0.684,\n",
       "  'key': 6,\n",
       "  'loudness': -7.364,\n",
       "  'mode': 1,\n",
       "  'speechiness': 0.155,\n",
       "  'acousticness': 0.131,\n",
       "  'instrumentalness': 0,\n",
       "  'liveness': 0.156,\n",
       "  'valence': 0.406,\n",
       "  'tempo': 112.912,\n",
       "  'type': 'audio_features',\n",
       "  'id': '2fXwCWkh6YG5zU1IyvQrbs',\n",
       "  'uri': 'spotify:track:2fXwCWkh6YG5zU1IyvQrbs',\n",
       "  'track_href': 'https://api.spotify.com/v1/tracks/2fXwCWkh6YG5zU1IyvQrbs',\n",
       "  'analysis_url': 'https://api.spotify.com/v1/audio-analysis/2fXwCWkh6YG5zU1IyvQrbs',\n",
       "  'duration_ms': 231253,\n",
       "  'time_signature': 4},\n",
       " {'danceability': 0.9,\n",
       "  'energy': 0.598,\n",
       "  'key': 3,\n",
       "  'loudness': -6.463,\n",
       "  'mode': 1,\n",
       "  'speechiness': 0.0822,\n",
       "  'acousticness': 0.0313,\n",
       "  'instrumentalness': 0.0162,\n",
       "  'liveness': 0.35,\n",
       "  'valence': 0.585,\n",
       "  'tempo': 119.964,\n",
       "  'type': 'audio_features',\n",
       "  'id': '2rFTRICumonxxZKxxfEu8R',\n",
       "  'uri': 'spotify:track:2rFTRICumonxxZKxxfEu8R',\n",
       "  'track_href': 'https://api.spotify.com/v1/tracks/2rFTRICumonxxZKxxfEu8R',\n",
       "  'analysis_url': 'https://api.spotify.com/v1/audio-analysis/2rFTRICumonxxZKxxfEu8R',\n",
       "  'duration_ms': 193217,\n",
       "  'time_signature': 4},\n",
       " {'danceability': 0.855,\n",
       "  'energy': 0.546,\n",
       "  'key': 0,\n",
       "  'loudness': -5.192,\n",
       "  'mode': 1,\n",
       "  'speechiness': 0.0364,\n",
       "  'acousticness': 0.0513,\n",
       "  'instrumentalness': 0.000292,\n",
       "  'liveness': 0.0725,\n",
       "  'valence': 0.869,\n",
       "  'tempo': 94.989,\n",
       "  'type': 'audio_features',\n",
       "  'id': '5jDpJZ4AV0YVV8o9Ez2U9s',\n",
       "  'uri': 'spotify:track:5jDpJZ4AV0YVV8o9Ez2U9s',\n",
       "  'track_href': 'https://api.spotify.com/v1/tracks/5jDpJZ4AV0YVV8o9Ez2U9s',\n",
       "  'analysis_url': 'https://api.spotify.com/v1/audio-analysis/5jDpJZ4AV0YVV8o9Ez2U9s',\n",
       "  'duration_ms': 169413,\n",
       "  'time_signature': 4},\n",
       " {'danceability': 0.493,\n",
       "  'energy': 0.653,\n",
       "  'key': 0,\n",
       "  'loudness': -5.666,\n",
       "  'mode': 0,\n",
       "  'speechiness': 0.0466,\n",
       "  'acousticness': 0.269,\n",
       "  'instrumentalness': 0,\n",
       "  'liveness': 0.511,\n",
       "  'valence': 0.852,\n",
       "  'tempo': 142.347,\n",
       "  'type': 'audio_features',\n",
       "  'id': '5B0kgjHULYJhAQkK5XsMoC',\n",
       "  'uri': 'spotify:track:5B0kgjHULYJhAQkK5XsMoC',\n",
       "  'track_href': 'https://api.spotify.com/v1/tracks/5B0kgjHULYJhAQkK5XsMoC',\n",
       "  'analysis_url': 'https://api.spotify.com/v1/audio-analysis/5B0kgjHULYJhAQkK5XsMoC',\n",
       "  'duration_ms': 121573,\n",
       "  'time_signature': 4},\n",
       " {'danceability': 0.838,\n",
       "  'energy': 0.793,\n",
       "  'key': 2,\n",
       "  'loudness': -5.176,\n",
       "  'mode': 1,\n",
       "  'speechiness': 0.145,\n",
       "  'acousticness': 0.00621,\n",
       "  'instrumentalness': 0,\n",
       "  'liveness': 0.0962,\n",
       "  'valence': 0.527,\n",
       "  'tempo': 120.062,\n",
       "  'type': 'audio_features',\n",
       "  'id': '4Tla2jt77nO70DgGwFejbK',\n",
       "  'uri': 'spotify:track:4Tla2jt77nO70DgGwFejbK',\n",
       "  'track_href': 'https://api.spotify.com/v1/tracks/4Tla2jt77nO70DgGwFejbK',\n",
       "  'analysis_url': 'https://api.spotify.com/v1/audio-analysis/4Tla2jt77nO70DgGwFejbK',\n",
       "  'duration_ms': 178219,\n",
       "  'time_signature': 4}]"
      ]
     },
     "execution_count": 22,
     "metadata": {},
     "output_type": "execute_result"
    }
   ],
   "source": [
    "playlist_audio_features"
   ]
  },
  {
   "cell_type": "code",
   "execution_count": 17,
   "metadata": {},
   "outputs": [
    {
     "data": {
      "text/plain": [
       "[{'danceability': 0.608,\n",
       "  'energy': 0.676,\n",
       "  'key': 1,\n",
       "  'loudness': -7.56,\n",
       "  'mode': 1,\n",
       "  'speechiness': 0.248,\n",
       "  'acousticness': 0.212,\n",
       "  'instrumentalness': 0,\n",
       "  'liveness': 0.347,\n",
       "  'valence': 0.57,\n",
       "  'tempo': 80.939,\n",
       "  'type': 'audio_features',\n",
       "  'id': '0qLt7pQhm8LDxFgI0YXdlY',\n",
       "  'uri': 'spotify:track:0qLt7pQhm8LDxFgI0YXdlY',\n",
       "  'track_href': 'https://api.spotify.com/v1/tracks/0qLt7pQhm8LDxFgI0YXdlY',\n",
       "  'analysis_url': 'https://api.spotify.com/v1/audio-analysis/0qLt7pQhm8LDxFgI0YXdlY',\n",
       "  'duration_ms': 260632,\n",
       "  'time_signature': 4}]"
      ]
     },
     "execution_count": 17,
     "metadata": {},
     "output_type": "execute_result"
    }
   ],
   "source": [
    "test"
   ]
  },
  {
   "cell_type": "code",
   "execution_count": 23,
   "metadata": {},
   "outputs": [
    {
     "name": "stdout",
     "output_type": "stream",
     "text": [
      "['5p4drVwua5J1BYgqhrMwWa', '0qLt7pQhm8LDxFgI0YXdlY', '0M5pEUmRD3b4nP31L88IdL', '0Kz9aGVgFvndWkcaiylIt5', '2fXwCWkh6YG5zU1IyvQrbs', '2rFTRICumonxxZKxxfEu8R', '5jDpJZ4AV0YVV8o9Ez2U9s', '5B0kgjHULYJhAQkK5XsMoC', '4Tla2jt77nO70DgGwFejbK', '5WoaF1B5XIEnWfmb5NZikf', '1m8WpLYXEiNVZchsWEcCSy', '1erZEUKhZ03cHHD0vOr8aQ', '19EnyPZhNPbRoCxAuv5pKD', '5mCPDVBb16L4XQwDdbRUpz', '6NOdD9M3uXCQbHoxLChMn0', '4sbtM9ORGwmxGkXfctXbJq', '357A38eIc5S73mWDD9oei1', '0MURF0yjHOChxkrlUrLQWk', '1UWZGeoNEZnkGEibkAbrMR', '0F58GE2TtHBim5o4ZTQUwK', '0wXuerDYiBnERgIpbb3JBR', '7p4vHnYXkxlzvfePJVpcTr', '5NhlpQ6BOIz3S5welptk1W', '4j3GWI86JvSaF0BLdmgcfF', '2Aq78kKI9yuloJQkcbhQbU', '011ZwIM48eD8ee2UBpG8nK', '77hL9s5AHzOhgXFxbLCdv1', '1nRTH500HbZX8PYwT4ZMby', '7xE37ctm10lifJZpmFLlX7', '21jGcNKet2qwijlDFuPiPb', '73ZaCmh5nzvBzbhREnQvcB', '1jNrotshHZUS2wj7MU6Lw9', '1Ona3VAcHeRzOC3JzlIkik', '64fY6hYmUYmSlrfZQobFZX', '7LoCs83r9S5O2NsCkcM36T', '4h1IW7uYgJpBnbPK3sBPkl', '2AyyImkxFBEhfPmIe46Ppl', '0WQcnrsEqrY2e5nexGe3HX', '59e7E2LMPZ2bhW5G6aCwX8', '2kwxN1whHc0YR0cBHR5iOi', '0foRpYmPs9PHIAMyXa5bTc', '7ycWLEP1GsNjVvcjawXz3z', '7sr74Bz3GBTNMQe1m4F5Ut', '4pdgV8qr9Oytcv6thCdiIZ', '5VnpYqIzm02X9gOhVElQo3', '0PDwNx6GrHc5sRVy6Hc7GP', '2rqUblDWJKlMVwh9uJc0Vv', '3U0xbYGTtYZAUv3lEwPebJ', '4i9ATUqGrKhfzQ0k8UnSBf', '7hav1MHURQf5SAoPk0egqh', '5UmRDaMPkV6g2HVMWoKx8u', '0zLCBJZSiELJf02ucPP9wb', '5hTpBe8h35rJ67eAWHQsJx', '0Y0TOsE1q11qgbi7c5WZsG', '4F07ku5lMBIoybFPStM2j4', '71jX2UDOVLTJCIQMgGVstb', '5PNvgiKSwMdjBsDsgFCFLX', '5E7p95xh9Ul4vZp4LEoJwi', '5xNNJKrjobta5ksOpMLYd1', '0HItcI6qN6Dr4MC3CZryQh', '3AkdSFo7quCZ781KCqNK0T', '0rOLFkjY5DSIViVBNnzOuK', '1RTYj0DKungYDHtgFQRtmx', '0f1G5SHFoFC9lO03gHCGVS', '4UiogCfzKQW98U1GTCivsn', '6zvqq50PL7io0rprbkrYc9', '4OxQ9sBdJCndBzQNuGorr7', '1MONUudxAjEk76FJvzGhuD', '5sbZj8hcae2ebXVBonKQ6g', '5aqu5xhPqoOWqF71PkfgM8', '1DMEzmAoQIikcL52psptQL', '1VGzxJnVQND7Cg5H5wGj14', '4sbtM9ORGwmxGkXfctXbJq', '0qpSvzE0Rws3gVZNZCf04v', '4H3kVzEBywafoCOq1DomD7', '7tmZ21lno9WK3K4Sezt6qj', '6EG0w98d2S1u1copDAHDqP', '3iGz75NJkqHubYUMRELLyP', '3kYARoLSAvt86VFZ55BQcq', '1n8KCrv2wq43ysd6HQCpV6', '4IAqjZmjlOMQGsDyuiXA4d', '5YHMaDiaGGYs5QyJ2CBDXJ', '6CDzDgIUqeDY5g8ujExx2f', '3hARuUtzTdUuWH1KiLJlSf', '6lIRYe72fn1pf7TNqfI0ul', '3xaugmCyXrVkrDTXbFkMW3', '1qbXrxctv75pm1lWCn6Zw3', '38lAbZ3TjQ6ogXJmj1rPXu', '3yXgttblOo006gd4eGOvw1', '0T7aTl1t15HKHfwep4nANV', '0u8AnQEMd9W6fDG2UbFjyz', '1subuniaapYh57OR5rY7rX', '0wCO06KSWHw28nRnq2k813', '6tqIes4TjudsjfIpK4P2Jh', '0y60itmpH0aPKsFiGxmtnh', '0eiQuBiHlSD22UWw9nsx6r', '1xLs8Mu1QEVbGCpyHQ2r2U', '0qPeakaeFndczx9OhJIFp6', '5VGEgFZfWBoEOGb3Vlo3rU', '5ppERf3XqWP1rCO8jCF2TO', '4sYbZjRCyaFqCtJ2Uvfh8B', '0SRPuTnr5QOKRoIxMvvlgK', '0HItcI6qN6Dr4MC3CZryQh', '0rOLFkjY5DSIViVBNnzOuK', '1RTYj0DKungYDHtgFQRtmx', '0f1G5SHFoFC9lO03gHCGVS', '4UiogCfzKQW98U1GTCivsn', '6zvqq50PL7io0rprbkrYc9', '4OxQ9sBdJCndBzQNuGorr7', '1MONUudxAjEk76FJvzGhuD', '5aqu5xhPqoOWqF71PkfgM8', '1DMEzmAoQIikcL52psptQL', '1VGzxJnVQND7Cg5H5wGj14', '0qpSvzE0Rws3gVZNZCf04v', '4H3kVzEBywafoCOq1DomD7', '7tmZ21lno9WK3K4Sezt6qj', '1n8KCrv2wq43ysd6HQCpV6', '5cHdOuER9BztlOcbUNBmrQ', '4YU5g8uyWWW882UQQHxLbU', '3iGz75NJkqHubYUMRELLyP', '4RkQzVNxEt6JwOXCWolXsr', '6CDzDgIUqeDY5g8ujExx2f', '18piLjvom24Ub9c2IxTHSx', '4zIiarkbaDt2cm6sukb1Xt', '4Q2hXFM4uQDw5noMT4LxfA', '4FUrVPC15KK8OcABXprp3Z', '1qbXrxctv75pm1lWCn6Zw3', '1oJZx6GqvuyzUgPu5OBxlY', '7eqoqGkKwgOaWNNHx90uEZ', '3xaugmCyXrVkrDTXbFkMW3', '0qpSvzE0Rws3gVZNZCf04v', '0Z0bnTn6iu3ufyv7p1KmjH', '1nbS9XTgYPM9dONkXtDECB', '38lAbZ3TjQ6ogXJmj1rPXu', '5kFHgvYq9KkYJQx9h08b2c', '0Lhy1sDDdtUFY2pyq2ZVi9', '5YHMaDiaGGYs5QyJ2CBDXJ', '6lDfHLmWTr1JnVgQhVBy41', '3s4mrPrEFFPF0LmAfutW0n', '1yBbxDXEfr8boXM1ubvBHi', '5UmRDaMPkV6g2HVMWoKx8u', '1BSA5I386L2IAmFQURYjIz', '5NAMZI9lVhxNa6AZp3iQVH', '6n4U3TlzUGhdSFbUUhTvLP', '204U3zjm9kkzX25Pr4Rdld', '3fFBZvG777xoKyvcrBq7lc', '55OdqrG8WLmsYyY1jijD9b', '1ckxFDBKrcepE6pDmayXzP', '5hwUsRKvnO5yThjVrxHQVt', '1GeNui6m825V8jP4uKiIaH', '2ctl2YVjBnxDO3OMf1Haay', '45Ln3F9PRPYTXBcMFkZMzS', '2BJSMvOGABRxokHKB0OI8i', '7h0d2h0fUmzbs7zeFigJPn', '6AyWdCtEn1DdxjnxPeojR2', '6gi6y1xwmVszDWkUqab1qw', '2OaKHGvIxoOzIYjyMsxcT8', '1jk9c0gZI0wbn5GvAj7PBV', '4BP0An7SXctTY4kF41JxIQ', '7v96VvFLS0wSYT8kewNLRy', '6o4nVtywF4F75RkOcDxrtd', '49MkHdUftJsF4oqUNWED1M', '7KVPsVMOK3NL7subwJ0dZj', '33JcUj9qQDayKswunZP9ar', '7tk5tOCj84jine8kKJkPYs', '40wyhIkaVvuZUAbAiTOkHI', '5FkoSXiJPKTNyYgALRJFhD', '4jVBIpuOiMj1crqd8LoCrJ', '0B8QzDH7YWih85V5SEMnyJ', '0YFwNNWeRQhOi6p17jTCzp', '0tISnxqgVmxqhVghsTi2Rr', '2rMFawCg4BW65jzbwztXAV', '5cgEadiGKjtTP1Q6NJqVP5', '3nS9a01VvXHQriLqJYwRqG', '3nG784YlxS4VQOF0qiHKVP', '5YCs9rP6ZcMJW6me3QhtWr', '7D8aQaRzoi9Qzz5yerVK5b', '4X4cPQicoAfannkUFUXmi9', '5fHrHoJKfCgBd35zwIBmUK', '65OVbaJR5O1RmwOQx0875b', '4ea9w8c4ROqiZpJVhfBA3m', '38844QuZDlnt44uHPrSA3S', '4Oun2ylbjFKMPTiaSbbCih', '4Oun2ylbjFKMPTiaSbbCih', '4Oun2ylbjFKMPTiaSbbCih', '4Oun2ylbjFKMPTiaSbbCih', '4Oun2ylbjFKMPTiaSbbCih', '4Oun2ylbjFKMPTiaSbbCih', '4Oun2ylbjFKMPTiaSbbCih', '4Oun2ylbjFKMPTiaSbbCih', '4Oun2ylbjFKMPTiaSbbCih', '4Oun2ylbjFKMPTiaSbbCih', '4Oun2ylbjFKMPTiaSbbCih', '4Oun2ylbjFKMPTiaSbbCih', '3jEtESxn2ngF25DMD6vbBg', '0eWxDnXDbsR4h1kVk6rZdy', '2cRm43WgDFpOX0oqr6ujbB', '7pRcWov3NHxi0GDkKdbSb0', '6olUplztLFFfU7fMYmFXOP', '7jWgkIrTDiB3vF8dm5AUyQ', '7b9h63I7EafcW2pVS9pcUr', '5iUQMwxUPdJBFeGkePtM66', '4k5UZm89ZX0YAHUp55zpt9', '2UOAaxhSOWDgSaIWYeoaJk', '6NblUCwJXYkQlQ6LhcmSlQ', '0R9U7yIlLm8KAL6iQbwKKT', '1PVza5KmhSJhz12OewWciE', '322vI2bPcLJeDxltXD9hzD', '4F07ku5lMBIoybFPStM2j4', '44ByUAJyV8ZcRW3y5gqMpU', '0jqBo5RYn008f4ZY8kPewW', '5Z3GHaZ6ec9bsiI5BenrbY', '6kSgsughJ1LFHaClLGleIR', '7eqoqGkKwgOaWNNHx90uEZ', '70SjyVMzhmMeJQD8hOmIBp', '1UjyF6okUHhnVxaLV8ojsA', '6jjQHv8A394Dz1HjYrr2jv', '4j3GWI86JvSaF0BLdmgcfF', '7p4vHnYXkxlzvfePJVpcTr', '1t4pPnbkOjzoA5RvsDjvUU', '0dWOFwdXrbBUYqD9DLsoyK', '6MTA4AwgmjVASTXpBEwvn8', '45Egmo7icyopuzJN0oMEdk', '152lZdxL1OR0ZMW6KquMif', '4CpKEkdGbOJV51cSvx7SoG', '5LUkItW2c9cK2HotM1pEAC', '6n4g9rQE65ZgPQo32mWixM', '7HRv1sYuwgoea1m0JRvChV', '5fyqqaqTmcNDixYABJO99I', '6KacmqPPQ3LNoiGFuqGChs', '6SwRhMLwNqEi6alNPVG00n', '6PGoSes0D9eUDeeAafB2As', '5bBUDJUfGcG7eFy3Bf4fXv', '7uWVT3UkCAZyANvv0bdyQn', '5UHjWOJA6MDl1g3x2HC68V', '7ALEBJ8LOQqXVJ2tqnXtoH', '2hPNuVVSV1tqiD2uPlfehz', '0sSNa2XDu7dxbnjK0lKnDH', '2JmFRXaJrkAUD2cs6U20KG', '5v0C3nNNDMhZ3nWzzP0W4T', '3XRosKfSgFSDIb6YVpApIl', '6tZ3b7ik1QDXFAZlXib0YZ', '0utlOiJy2weVl9WTkcEWHy', '48yTs5eM5W3hAcxzuasi1O', '5oFK0dJQ5auokDaVYY228m', '1eu6vM3Q8wYKGYZCn26uMb', '4dulFGnSzdNW3iNdxxzgy7', '50S4mpD9sR0ITKEfC0O2cb', '5jyyPsIGM2yqkZN9R3TmvN', '388jD8ko9cvFM9cd9TYDrl', '6WSBZroxQaO3FYEpT2ACFH', '6hPSal3ragmfUt1I5mKZjn', '6Hgh47WXVKtXN5zGOu0hjI', '1jzIJcHCXneHw7ojC6LXiF', '6pQ58t6Qec0N0qZpYplTJW', '25VgWs8TUDSUJkHQYdsh8C', '70We9AqHenA4jcmXmKzJnZ', '294T8la5m8J14SOfxQ9lV2', '0d8anwJJGti8jE79Y4tXUD', '3CMfea1T5q5gwAeGY56ZxH', '4u28xxkgsCYGjQ9rJst8Bp', '7iMDaY1LnASwCk2uUpMtii', '2HuHVkQC4P4ePPi0MZa9KD', '7GPstnufSTScEaw9dMxO9H', '30fRQc5shauvHRMhoGkmRq', '1A6OTy97kk0mMdm78rHsm8', '6FtCEQZesoKRmjf5LBKyko', '5667yBR4Syh98dcUTdkhwH', '3kxfsdsCpFgN412fpnW85Y', '3NWTRZ0A8xKlBP1qgNftql', '4TwfL24hyBx1sFG2sw5XxB', '6PTEGtKVOYPUUzD8nGHuui', '2Si7shrUKzMBFEDRTb4LlW', '6Tb8Fse6LfJ0CRZVlNjHF5', '7pdF27mSDuPWhppnHAmWHa', '439X8jGytErRiPnaoUJHju', '0ZYPXpIc80adkNnFZrscT9', '6SkHm6poyKfzV6kc9any8k', '7FGq80cy8juXBCD2nrqdWU', '0rTV5WefWd1J3OwIheTzxM', '5bgwqaRSS3M8WHWruHgSL5', '3onYsieuDICdVt5ULZSExF', '1RYibLoUBdckot7lYPxu96', '1OWu2Vin6WH1gVvgO05Pw8', '5dkaWDb6X6987eSTMGZUW2', '17JA4HlieSH7TY3pQk21MJ', '0gf2y5doKjsYaZJJZif4vz', '6VpN3fL6LBIeAbRpGlJCII', '7dM1LXzErIt04ksmaMdDI3', '0wdJgrDo4kosgObGnvjp5m', '75iIalBlg6g7krYDWAfFUT', '7LBdv0ek7Tj2s0bgxmlrC6', '5xok0LRntz8qY9ljEwPV9L', '5JDwLHI2YUkFSFSn4g5pGd', '2hPNuVVSV1tqiD2uPlfehz', '4XTWiowLNAWfdc3YNq59VU', '4rU2eED2YPnmmrVmLlaYVI', '3P5iJl5H2nOmWNMsCFuqFs', '3LH6EfPCeySeuymuK2gWAO', '1A6OTy97kk0mMdm78rHsm8', '4qNijbGeHqlcFWrGrATFOX', '4hyjgR9LU4B31xK6iIr6w7', '7lVoniii4QwhNjCeHij2xZ', '423VyysMCduMmvqDH5oGEB', '3lB0GMiI5KxDbTOG8V3bOx', '2OHK6Hj0ITquxUstNPF5TM', '3AEJ5MpwV4WJSFhxj04ITx', '3TgMcrV32NUKjEG2ujn9eh', '7BhtNdWEvpx4n1vbqLrS93', '3G9zeErd0kMx012kmYUrm7', '4vcyK8QHE6WsqiSnaBOtOS', '439X8jGytErRiPnaoUJHju', '0cZcOtDqLaavK7LowhTBsa', '5BxVRqpZi6tIhAap1ZjzVD', '0rTV5WefWd1J3OwIheTzxM', '5bgwqaRSS3M8WHWruHgSL5', '1OWu2Vin6WH1gVvgO05Pw8', '2KZybiXVEQExXm2vtAcP8f', '0ARp9mXXpPflIwehy25kCa', '6hchk7cCDULpk2ag8JFjXQ', '5jRJlGB5EP7HFKwYBKvlSA', '7Ii2ALuxW7NkLfQPhV4Rn2', '6vw4YLRXNvtFxA2yxVrR6H', '7FwUBR93O0aSvXltMM73e7', '09oZ9eXQ2fo6YDrPzJqAoP', '6Kk8BZZiRIClaHm0Qmkj12', '7hdM3l7whE3lTHP6WsoKZT', '3FDcRqc0TH5wWERAOu1O0c', '39Mfc40ap5dWCmAAtqMAW2', '6ThstWIn274ADNjJBnUbEQ', '34iP1qPyAfLpBAcMo7TQfN', '4FUrVPC15KK8OcABXprp3Z', '0xYlNtVflZPG1pUbk4qp77', '6rDunNC3OsxLUkxK1aEjnL', '6NqbN00vLmWfrQSx2wjD4z', '7rl1Frsgk11OLb193JtLra', '2IoEP9SKwBpm4DL89MKTDZ', '4Ai0ANRDYwx6mCD4Uty1WS', '4KaiIuQH1EH65zWQgyWWaQ', '5MZQIjtghyFc4sMVUzD7MD', '1BybndP1YgPEIk6WUnL6kT', '4LGg2NY9eHp0jF3L1WbCNl', '4jwP0pxx7su04FYc6J12EQ', '6HguG9HRb1Ke1bhihfE4m8', '19zPT36WogsfBd8HIaUnt4', '6gigGFhKguOzObNC5QZbeW', '2fzK1mbS6V9UXQQ8reSjXH', '19y7Eh2ORRo6spiEcr4aTU', '3UBkhPyI6UfmH86bxxPLcb', '1wYZZtamWTQAoj8B812uKQ', '7zgoHkxLgchJwPdhbJhQ3K', '5dmPNuHmRRJuHmJTDa7NuJ', '5FjC0o2EGdlAMdc3hfeTMd', '1qAcX4wZpol2I0QtDSck3L', '4gErEUBzsNChBuqk9jgycY', '2muJzxNCRL7M2QeCmjPubU', '79LfU5ufUmiLvLURU23Yyf', '3DCU0R5FFaB9GKxZERb5wr', '1w4zsr8vQDFkVDOX22hEOF', '5Ybp65SomeSJEj8xmUARdA', '7zDu3l7DDlfSlt20YMKkWo', '4PvbbMYL4fkToni5BLaYRb', '0Lhy1sDDdtUFY2pyq2ZVi9', '4ej94zqr9xYLbWphCH3TcD', '5G7602PyF33hYDi4utEpoZ', '3AqXknt2P2FDcgasp4VVNI', '2ZlgqiomIrjvkuWFDSVOLY', '5cnD97Kg28dJGGdBv72sDl', '3VStQ5giIkRU9Rjh31TGH8', '5FLjLgqVsITzgEV9KNncTr', '2HytB9M0U9L8fmrDFvDgXD', '2WaesAINqa4dKnLVu8JQKS', '1LvASuCm9gPr9684FFNKdt', '5p80uI2FhYGQZJRfzy7mb6', '6ECcJlfjh2F1LJxe74qKnJ', '1z0qfVExBs3b3dctr4ZlCD', '41L3O37CECZt3N7ziG2z7l', '63oTx2gvxdNv9qGYQCA005', '0vTJP35J4M1PY9iAA8UmbV', '11Ey4yJVeWEsA73KjACkVY', '6GVWKfRIG6KkZ6DFCTYGva', '6CUugPwgI9yd0iPdMFkClA', '357A38eIc5S73mWDD9oei1', '7jhItbz47nxN7tAaiXf2R8', '4tUV3qVS1tIT5K2vbwo7Kh', '4HKl7nxuuky1ICnldu6Jvz', '4lZlquzJF4AfND0nU5kcmj', '02fMscVZ46N4l46yHZQkqT', '5TocQE0LESbiqk6sd3Y5Hm', '76S0dx36oCAMgqfXlVUQeZ', '2zTjF6OGxklU5Ulv7iTf4R', '3bzP8lZJWmuhpdnfDP1rTq', '72PwtNhRrZXNnYeRg5xQ46', '76c9yn9NDJDYswNcJIBT7c', '2n5gVJ9fzeX2SSWlLQuyS9', '6eBrlbv2HMYcldwjoMWIrC', '5ALc7rbru6QOLGodVSDocc', '0tISnxqgVmxqhVghsTi2Rr', '1qPK58q90l8KNoWyXsLI2Y', '2nBI3iWLhupR7LyAJ5GGkE', '6Jc69KjFo9QNailcyDJh2I', '7EiZI6JVHllARrX9PUvAdX', '27GmP9AWRs744SzKcpJsTZ', '49zD0wr2S3d0lZPib0K4e1', '3PiLfzEXHrvT1oJKR8PAJt', '0Di26AbdtizzHkFstPyt7A', '25rc1PFgPvtV6GFSloyOI0', '4yJ61FeTLi14BHzJXzurPi', '4BWuRZe5uDrhcO3QDhNaxQ', '3nW6HqoWdzpdz2oAzkHEoV', '1wHZx0LgzFHyeIZkUydNXq', '11byn9E2NCI65biHtKOLG2', '7eaKWfov7b2Qa2n6HTesL3', '2Zy7XVdxyZQB8xp5xbpJdl', '7xq3uN2toVZ8IbNzfTucyJ', '7MDKvOzNgAJ3KMCtaP2UOa', '2FzMXRTlAbHkEP1N5RrXaW', '5tFep7dXGd7vEJ668wTPux', '3SnLc0bQjQeE3HgGdNfb8u', '2SxF6pKTGmQLfkWua5d8j8', '6NMNgWgEAzde5M8U3lc6FN', '4ckuS4Nj4FZ7i3Def3Br8W', '63M8PK8yavNITSViKUB62p', '5e9aFSdnkQUrm5y8Dhw0qN', '7KOlJ92bu51cltsD9KU5I7', '3KiEydhjn7yf58h9jBD5Sa', '4w7yrP4RAeeyhfG9nJqQvS', '5TqBAOIBe0bQA0spNdcG3k', '439TlnnznSiBbQbgXiBqAd', '3IrkbGQCoEPAkzJ0Tkv8nm', '1SlPhbS52PbNqqVCqGU12I', '0ylljWEG3ggkTlQbnUZb3Q', '3rOSwuTsUlJp0Pu0MkN8r8', '6UjfByV1lDLW0SOVQA4NAi', '2bjwRfXMk4uRgOD9IBYl9h', '31c9IHwCIONmUYW0jL7Riz', '6fujklziTHa8uoM5OQSfIo', '1H3j02k8vrhbPekOqV00mG', '1e1JKLEDKP7hEQzJfNAgPl', '1hsCcm0xujceILNvgRfrVB', '1UIcqXAA24eg76EFWViwr5', '1yxgsra98r3qAtxqiGZPiX', '5hfpu8saHLGedbHRtNCYjm', '7sr74Bz3GBTNMQe1m4F5Ut', '0zO8ctW0UiuOefR87OeJOZ', '1hjOus1mOUJ5lObEg2I077', '7x9vJE3Xa7mIH106rzO9Tk', '2MO3mSPBH8U9qalH72vqZ1', '7AijU6oTPGmG64uWf63Qvc', '12D0n7hKpPcjuUpcbAKjjr', '0LFcFGLYTX6UmeIdO7NVd7', '2rmq49FcJ4U3wh1Z7C9UxE', '503OTo2dSqe7qk76rgsbep', '6n0KwBRfQX2O5CPAfdcD6a', '2ClE3QfsNx9p0zjPKxmUYq', '4MzkYx6KAEKNb0V1eftx8H', '1jk9c0gZI0wbn5GvAj7PBV', '67c4kWwica8i1bxNJc1rkq', '4GBuL6fgtVXJNgP1GzoF6Z', '3CrGhzG1oFEpgyK9XlxrXq', '6kl1qtQXQsFiIWRBK24Cfp', '2Y3zcR4Zk0XyNtscjr7qvN', '1zPkAyWzIAePfmbhHetqK7', '6kig1UFggPUyZBCvXD3Wod', '3aGibUHhQyBsyumYHylw0K', '42tBlHWL3VfDkUM2iWcc5p', '6p8NuHm8uCGnn2Dtbtf7zE', '2rMFawCg4BW65jzbwztXAV', '0MRZ9nMoLc7qQ8Nhovv8C8', '23z0NFaX0CYXoetju87A4z', '1XRgIKC5TPwo7nWGyKqgG0', '7r6LNJT2LqpLpEyZQJPygt', '4pYZLpX23Vx8rwDpJCpPTA', '1uL78kFWxhz3umTMWJu8n5', '2frDm1v0SFNyeduw3gO632', '3lz2JgAt4cyr04qDlBgTOv', '6rcKz2VYbcaHJ0qSXucR56', '1YZfcVLbbJwfizR5cDOp3q', '5u6vkDnOyaf8LsteDAj2ub', '1WIZiOuNO3woKfdlSK2gNn', '4fndbjoz1qJyK6JcLdKfzm', '7sO5G9EABYOXQKNPNiE9NR', '4qKcDkK6siZ7Jp1Jb4m0aL', '4BHzHISX21PYwGXiBEUQ70', '4Kw3CztmD15X1QGDnnHmLD', '0G9rmRmQDFk9O2tzZLyRkc', '0RyA3o15NOLJYtm9NlDu5c', '77UjLW8j5UAGAGVGhR5oUK', '4LmAnpjlhWTahvRkYR8xJa', '1eLSF6HfrRA0AsNmTkUlKx', '7bUcBztfGqO7cSI2gMZeCI', '6iyp6udVpLuq3MCUulZT4h', '2huH9q26JmfR0BzV4xKzny', '0D5CXSUx8GOCHSY8KWgi9h', '0PJIbOdMs3bd5AT8liULMQ', '0xrdZMsJIaxoTHAB4bvGnu', '4T0ScSPdQKmGvruK7pavNP', '4lWJjtWbDDALpK9tVG8Dho', '3AszgPDZd9q0DpDFt4HFBy', '2IpGdrWvIZipmaxo1YRxw5', '5XJJdNPkwmbUwE79gv0NxK', '4jTiyLlOJVJj3mCr7yfPQD', '44Xgp13T5ab99beJ0edP6b', '32UIpKdyGzgTPTO8e5ge5c', '27GmP9AWRs744SzKcpJsTZ', '2zsa7Z6gCA5eBg0p9pbyLs', '4jtyUzZm9WLc2AdaJ1dso7', '0Rktu1dU3VH295WpdK36vs', '5xpmdbQcfIOsE1hACcC3UK', '2dxjKgT0li4qBI3QwuN9Ih', '6gf1xlPETW9CwjsdnUzW3g', '0YKvEXArXE4GeGzqCsaifN', '4LwU4Vp6od3Sb08CsP99GC', '1Kym30HhxluYlqAxyu1QqQ', '0nfkzX4y8O7Jxotd7bCu2C', '4XoP1AkbOurU9CeZ2rMEz2', '4go2hxLM6ijk0K76ZY0Nhd', '6rbeWjEavBHvX2kr6lSogS', '5NQbUaeTEOGdD6hHcre0dZ', '2n5gVJ9fzeX2SSWlLQuyS9', '06iMqWThw4w8fTFyccvOwr', '7ioiB40H9xKs04QtIso2I3', '3iL2l5gUqyPS6vDwJFgJTR', '2ujbOwvdiH020TO5EucGiX', '2wXvVdgN3q5ejtE9WSNHEg', '3IvVQ1qmekCQ4LRwGCyIJA', '4immekPm8Har57BB9DcDSj', '4KW1lqgSr8TKrvBII0Brf8', '1Wsbr1d2BouNGk2q92mIj7', '36o4taPyOdnOMf01ERmn9a', '2zsa7Z6gCA5eBg0p9pbyLs', '16qYlQ6koFxYVbiJbGHblz', '19a3JfW8BQwqHWUMbcqSx8', '3nAq2hCr1oWsIU54tS98pL', '7fQmDkqrrj13kxv4Vle3AM', '0nLcWJB4ir9430ulKxZZhV', '6JFLZH9vCzgqnUToBdiHQb', '1ZHYJ2Wwgxes4m8Ba88PeK', '27eO3EGKIUU7yug1eOxUZu', '7hNx9Dynz2fRO41L9AEVA8', '6C7RJEIUDqKkJRZVWdkfkH', '1fLdeDTrJWNkwOeFyAVLvF', '4ImL3v98u2BLkwnyQDjfRm', '0ua0Go4NN4Td7l0Zre6Ce3', '39cpcnobaB8FdedVjHjXP2', '2cYZpcIV39X48RnOFM7w2V', '0fDf7lTJ6A6uzGWUEJHcCq', '32UioUCnMFsr2UN7SvDyXj', '3KUpGMnZL76I9E7FoWV1re', '12VWzyPDBCc8fqeWCAfNwR', '7fJtPlEZKxu6gvkfBFc5tW', '4CpKEkdGbOJV51cSvx7SoG', '1OAYKfE0YdrN7C1yLWaLJo', '24Vi19qR3QeWxZpNnmZqjB', '7Db1qyGFeMPIU7pZOZvTME', '4kNvYhyl8R6m1vykVkcuBu', '7kfTqGMzIHFWeBeOJALzRf', '4WmcBHCMydSBMNr34yRI6W', '0pN1Ld0Fr9DTUaCGbKRvlF', '4xKp0mZ2hY6eS0ii55KgKR', '7v0hKO3RYhEXt2EPXf4AOS', '75L0qdzRnhwV62UXoNq3pE', '3fpTMuD1u3gJlVI4FadVHs', '4BycRneKmOs6MhYG9THsuX', '1pF5hkdEGJv8xzLTvhy3PF', '60geMByGdlcGGMR5R5ZjHE', '23NWj2izXAJ4yL6Nah73wf', '17Q87zeXgsAi9iQQbMu9v0', '5lFDtgWsjRJu8fPOAyJIAK', '1j6kDJttn6wbVyMaM42Nxm', '6br4Pc0BzU6dTD5fEmks2i', '5cYZm4KeDKM8Pw8z5XRKJt', '5bBUDJUfGcG7eFy3Bf4fXv', '0N3W5peJUQtI4eyR6GJT5O', '3aGibUHhQyBsyumYHylw0K', '0AOvNRgl0SMfOibWA5bP8o', '2P3SLxeQHPqh8qKB6gtJY2', '5UHjWOJA6MDl1g3x2HC68V', '7ALEBJ8LOQqXVJ2tqnXtoH', '5DO1SazQppcsKQ1c1JpyQz', '2MYl0er3UZ1RlKwRb5LODh', '2b3KgzISdjZVNPJJ1945nw', '6jl01C724Mk68qlOQLco5I', '7wdzLe2Gsx1RGqbvYZHASz', '3ZLyt2ndLFBh148XRYjYYZ', '0v9Wz8o0BT8DU38R4ddjeH', '0jx8zY5JQsS4YEQcfkoc5C', '60xaS8mYBKUW4VQQ666N0T', '29BXCsh4lGLrndprkgYL6O', '5PnBpKOVvQxeFvXVNYSoxs', '70SjyVMzhmMeJQD8hOmIBp', '2VrmUtE9ApfKPAAhh2zSDG', '5iMyOIWo18RV1LX86A3nWS', '2Nh2cMryoXl7BrZoIeN2Pr', '5mCPDVBb16L4XQwDdbRUpz', '6NOdD9M3uXCQbHoxLChMn0', '037BZ9w1quPGsUlic4Beh3', '6Na5uKk5SsqZimk0hAWo8y', '4sbtM9ORGwmxGkXfctXbJq', '2hfoyc7ve6xM4ZEiNIiU1B', '0PXp9QxBfSKGGpWUNaws2X', '7xnUkSlGHyOBgcJxnh8Iyw', '6XWMcTAiB46lOYfFBaElI9', '3B54sVLJ402zGa6Xm4YGNe', '357A38eIc5S73mWDD9oei1', '0MURF0yjHOChxkrlUrLQWk', '1UWZGeoNEZnkGEibkAbrMR', '2yUy5eFAFWAichjrySJWA2', '26AI33STXsKwtuV9hmzDPG', '0F58GE2TtHBim5o4ZTQUwK', '3xaugmCyXrVkrDTXbFkMW3', '0z95CqBxQnSQhNnoWTZJKL', '1qbXrxctv75pm1lWCn6Zw3', '1erZEUKhZ03cHHD0vOr8aQ', '2drEUEg0TYQR6dDEHkpuPE', '3O8X1DE9btbzy4UH9cSX9a', '3UBkhPyI6UfmH86bxxPLcb', '6K4t31amVTZDgR3sKmwUJJ', '2O99aywAVBhaPrsiJ6zbSS', '4FUrVPC15KK8OcABXprp3Z', '4sbtM9ORGwmxGkXfctXbJq', '3xaugmCyXrVkrDTXbFkMW3', '2hfoyc7ve6xM4ZEiNIiU1B', '6oDXwSPWcp7KT2B3funF8y', '40hilC332kLOwCzOVhWhl5', '20a8Kq82BrX2AzepCgMhJ8', '1DUSuNhF8P5vUGNPpQiZa5', '2UOAaxhSOWDgSaIWYeoaJk', '0LWfUHni3AITNe28V3wo3j', '3fKOMqJToZH96WgR8zzN7h', '7vcNp4cj4uF4AyX5aKY4Ps', '2MOOA4D3Mm8Vxj2bbgEHNk', '57BSFXytUc9trbqP9e3qrF', '7vptmeNwSEVkcwDdqk7UQO', '4YPRFpL86B0ZBuev6YeKXv', '2dwvxOHnQjndZLowIR6PiS', '5KZiiK8dvTgXaVnegsvvBz', '2d3QlXE6FXFDeodiS66yjM', '2WwwfnTUm4yUK8stRMPd7V', '6EErYXgsGBMkwpITHuKuCI', '3I7OmVsk4Hm5LBbs2GmhlD', '0LtOwyZoSNZKJWHqjzADpW', '01TyFEZu6mHbffsVfxgrFn', '2DoO0sn4SbUrz7Uay9ACTM', '1sDyWBTv5dqU2I8I1IPUT3', '7yKTW0Fh9arBDdUbY9xiKi', '18piLjvom24Ub9c2IxTHSx', '5kFHgvYq9KkYJQx9h08b2c', '515MVhJ5mWAk41VfyOrezB', '5cHdOuER9BztlOcbUNBmrQ', '4YU5g8uyWWW882UQQHxLbU', '1VGzxJnVQND7Cg5H5wGj14', '5aqu5xhPqoOWqF71PkfgM8', '1sDyWBTv5dqU2I8I1IPUT3', '3xaugmCyXrVkrDTXbFkMW3', '3iGz75NJkqHubYUMRELLyP', None, None, '507tQXutCPYNFkpOq8tmKF', '4KnJYTJH8vIq5m4SYVao2m', '7tN1gwN2u7CGD9FuoGDE4D', '6Qvm8M6J1jVz92QA04TlgQ', '268V0Smf1rkcfKH40eVlHt', '3XvcQumWQqn0aPT6jZlZQg', '1eticIiJAJW9FrSUtOtd02', '77couyikIrTjNSgrVBEqsC', '3nWCi6Npr1DJObl5hgZwt7', '0T3AyN1HbAlRScx2hTMScG', '3fKOMqJToZH96WgR8zzN7h', '7fyDcqJdAaYBWF55rMCDjr', '3IZDJaaqc9Xr3uKDyYPCLa', '3Gm26fbxhzzeLY1KE3WgPO', '6axvnGwB3rtoriGI1lPhTz', '0y60itmpH0aPKsFiGxmtnh', '3UJS9aEUbtYO8kMl1IK1r3', '7iiCkRk5dmaITzTqskI0om', '4Dw4rvs0cuGNnnIZ419oC6', '555ix1gW9A1QtXoVfCPbfB', '1gmarFWgSwb4SWlmqDjWka', '0rKtyWc8bvkriBthvHKY8d', '1c3llq4m0FYzMch1ZqQmiN', '3dLbPocuJdznnYiuDvSZrg', '45Y2UVAciXBdFCPlqfvmOo', '6qBFSepqLCuh5tehehc1bd', '5qivyVqaVMBLUrFjv1DsLp', '7zFXmv6vqI4qOt4yGf3jYZ', '5pNiAcguRrBdYf5V0QXdir', '7qwt4xUIqQWCu1DJf96g2k', '7c2D4oHqAUIew44U0vdFhs', '32XO08H1i1p8u8xi60b7GQ', '1lBNU6fydBC1ofclWJoHyw', '215CpsscuxeGVt7SQX5PqT', '2R27zElr6RGSydKesz9MvG', '60KfHljKfxE0bQkJackTFT', '6B96aKL73bUpXZls5SW3af', '0shacjS4q8erL3XA2Zloxk', '6mIpd076vT9p59Vf9mkHTW', '4KDdXMNw0go2zAQICRI7fw', '3NyX0UgDNvhP2zyeBaAbpu', '3g9wkOVavIHjDSBXHOpKMt', '7uRNQ5jS3SjXSvEJaZ3tUs', '7z60GVlNEFKiXyWCFB6yQ8', '0u2P5u6lvoDfwTYjAADbn4', '43zdsphuZLzwA9k4DJhU0I', '73SpzrcaHk0RQPFP73vqVR', '7hDVYcQq6MxkdJGweuCtl9', '1JRC6gdqUtpDgLoNozRbtw', '1ObT98WfVsnJoL5qC4oL2R', '6VfLQ8dYSnnY13DpDSMfuq', '1gItZAJojSUuXnuBzZXwkf', '2GSEwzyR1c2IJoSI9WloVc', '1XXqmnOgL9k9lcRT3hncTf', '4VPHxAtloVdaRWrzHJUtCA', '4hWdGAGZepqE1X68o4ss82', '3tzoaiHLksWxVqojECYdEG', '08Lb4f6nJoTJbqTu0B6dsL', '3dwjSIuxyU6jLbfRRt5fX4', '4FsEFl0lu2lqDdgr46rAAI', '4w5qJcU460wDWWIG3FpsGM', '1PR8rVhosS1ceswh7VChus', '5thq8yBogkXaZdQEBFjMZy', '0o0dUA3rGDraZpumU6ZJT8', '0HFCw1viBRc2siCdkjL86P', '5LT0mW0LPOF4dn0EGlMW3a', '1EqLuIHIWIoFt1xAFXGZSC', '4fYG7YvImWlUuOZVuvV6Ic', '15pjLBdN42P2gyFefUt8DD', '6zFpeXenm0R9izFGwmPmQ8', '0V62AlQ6Lqy6xPK1sZTLD5', '6AtupSalvtkvfUjJLMl2Q3', '2QalEDQknZLABjQYmreKPq', '5TcC7QvyRQfoIImqtgkY6n', '2m8h6LKktXzX5T40FETirA', '0vWtbPVh3g1P616UdjsONn', '0pZcyLAMZ8b6a1Z1aF7nmb', '5CN0n0WF1etxKOBL8yw0wX', '7DvqigpUyh472nd4m8d1X7', '5ppERf3XqWP1rCO8jCF2TO', '0AlopdovhJoxuUdA9pzvua', '4njNT1O0X9rAJbPWLEfunQ', '3aaRK3htdVkK2pqOI64FEb', '5ry2OE6R2zPQFDO85XkgRb', '3s4mrPrEFFPF0LmAfutW0n', '2xLMifQCjDGFmkHkpNLD9h', '6gBFPUFcJLzWGx4lenP6h2', '7wBJfHzpfI3032CSD7CE2m', '7KZ5MMVgBVox9ycroB2UrI', '6BJbOXDlgVAXSaq6wYFYT2', '7lAK3oHbfEnvUQWosrMMpR', '4KYS9GK68yeuUJ8vJfPxrq', '6urLjX35oXXRYtcH1b3dCh', '2Zy7XVdxyZQB8xp5xbpJdl', '7DcvwMAiqKJQD1rrdfxSDx', '1yBbxDXEfr8boXM1ubvBHi', '5UmRDaMPkV6g2HVMWoKx8u', '1BSA5I386L2IAmFQURYjIz', '5NAMZI9lVhxNa6AZp3iQVH', '1qPK58q90l8KNoWyXsLI2Y', '1XRgIKC5TPwo7nWGyKqgG0', '4BHzHISX21PYwGXiBEUQ70', '2UVbBKQOdFAekPTRsnkzcf', '6n4U3TlzUGhdSFbUUhTvLP', '204U3zjm9kkzX25Pr4Rdld', '55OdqrG8WLmsYyY1jijD9b', '1ckxFDBKrcepE6pDmayXzP', '2rqUblDWJKlMVwh9uJc0Vv', '4pdgV8qr9Oytcv6thCdiIZ', '5VnpYqIzm02X9gOhVElQo3', '0RyA3o15NOLJYtm9NlDu5c', '59e7E2LMPZ2bhW5G6aCwX8', '2Ec33AVlkTTq8BHFgBTdQs', '3XiNC94b4Tq1xwv70sQJGN', '5w8wL9IpVlOerzOzOvkjvG', '0jBJIQuToUUOEx7JJkiPzm', '7h0d2h0fUmzbs7zeFigJPn', '33zbOXJSwW7uf4VXXWow2O', '7pas6O1LYbaeChEFQBhPFU', '1Ci4wASMY4xtKVMeHA6Sd5', '0ESJlaM8CE1jRWaNtwSNj8', '4gh0ZnHzaTMT1sDga7Ek0N', '01Ch5LzVStxCFPKkT1xg6k', '177WEvlLsCc0FzCTWslawr', '6wwruKU956ldDyz55DZTt1', '20dP2DaMHIAmwWAbp7peSr', '2AGUFka8kBWCM47h5uTlDb', '2c2csx4OTYtbkzvbSTXlGY', '1cZlBZwnwGPtYeRIeQcoFh', '6o4nVtywF4F75RkOcDxrtd', '1jk9c0gZI0wbn5GvAj7PBV', '4BP0An7SXctTY4kF41JxIQ', '00KjOnN3U40e3lXFUOue7h', '6LyAwkJsHlW7RQ8S1cYAtM', '2Grb4G6t9VIqo6moKUloom', '22ykS8KWpd2r4zcRZ0XMK5', '1fewSx2d5KIZ04wsooEBOz', '0AluA5RNsa4Cx6XRhf2hWZ', '4RGacGFT2ztXhGgzeaYzIR', '4cEqoGTqPRZy76Yl3ymj3V', '6vG3Zv9VEA6YbJPJ6ar5Y7', '0NA5xAtDra50d0Lfs2uvoh', '3XFwOQU8wxXWl8Rxj3lrOi', '42k9e2hgl98IdgkXLg4pxs', '156LzfvMNKuXuiot4uzhGD', '568OIKgeHyGRD3uWR44JbO', '3aUFrxO1B8EW63QchEl3wX', '7oHkit3F3vimtsBbnZkU0G', '6JyEh4kl9DLwmSAoNDRn5b', '7GRTrWsP3yo2Fx8umJfA1X', '4RVbK6cV0VqWdpCDcx3hiT', '2I3dW2dCBZAJGj5X21E53k', '4kUZvXB3LC3an3HX6h0s17', '4KW1lqgSr8TKrvBII0Brf8', '1Wsbr1d2BouNGk2q92mIj7', '19a3JfW8BQwqHWUMbcqSx8', '432hUIl3ISDeytYW5XBQ5h', '20r94xA0bsYNLtYSiOE6r3', '1gqkRc9WtOpnGIqxf2Hvzr', '722tgOgdIbNe3BEyLnejw4', '0HMCdlOPJkAGlB0MlSWIcO', '4cAgkb0ifwn0FSHGXnr4F6', '5nIu0VwPOsjkF61zfevLKh', '52NmkyHsGsHGb1UX8fTkMg', '42GcjriRK6srwHkfbkBqVl', '5nPOM0nFRAJ3XI8xCxNAzO', '3RKblQNJs8HPvWBgXmq6nn', '3sNVsP50132BTNlImLx70i', '1ffOhN2G280aSIokZMoFPa', '6M1QxOSjcCBCNnS7GSjd1o', '1HqoCOBHlnI9Snfk36jiTZ', '4hgS8ANdhHy2G7XtyVqLDw', '1AzqpMy3yLYNITSOUrnL8i', '10qp2g1jvHn79HiDUsaAb1', '17Xxp5dtS4GmdGjNZNb5Gk', '6Bxy3KpK4ygO2X9QAiOQ3W', '5sG65w8uKtjsJw7nc845Nc', '2QbGvQssb0VLLS4x5NOmyJ', '0shSP8DgseLewHgAiMC4UL', '0pA0rcw7ci5X5XHrnBpkdn', '2TqfASuL5JRds7bJX01PdZ', '2FTOLKjQUswhpdMFq15Raf', '4NhDYoQTYCdWHTvlbGVgwo', '1KWLyoPChJrBQFscO8NW8D', '2l8nEO0vsTRCRnGqQty6qx', '6VRwEqn7BvsN0dChfDrMAf', '5FlmoOiXokZHJvESrFbsyg', '2pE9IRjfPZuX3uUqFnE73L', '3oQm8V9abAHUQbFt0RkYKb', '5FjA90IaqWlXwhVtyoAyt1', '69mRpN83ueEDIVZHIuUfjW', '51KhczDsaLvGM4Z4JzctxD', '2hxU82R7709kmOLF0MUZRw', '2mGNwWwxfbcjYNLxKOXpuc', '3S8Gd1Hdw8jLLgeLceTl0d', '4e3F2xcadOYjjd6bEpyJNo', '65W1Qwn5MHidrr2tLran2v', '3P0rlkgDBdfeALoHnFk9p6', '75FDTsCr0UhbN29i79SEol', '5Wep9D9i6iRbG6cNWwH2hQ', '5S15gQ1z4aAm2H9FrwspmN', '4wpz0yzNYw60lMNyNRL8nX', '6fwWKdZi4TQQM4EkpIrp1O', '3D7OUE7fE0k4wjfiM91NgP', '2MQGpWBk4UQnXObnNqWAUo', '5FkoSXiJPKTNyYgALRJFhD', '73PCXcQrZD4ex4QPMKoMK2', '7CHniYHkZHjAIVDwYrlJrx', '5igD498pTbtY0t2hBCKfLy', '7EA53YLcP0uSgZAgZbpOHc', '6EAzLwZ9nLRrr8umHZMSMR', '1K41qpjzpv90TfgVYv1LcK', '1LislV9SE2XjbE6Guijob2', '1PiBNCLuTGlTVwiz6y3Wxb', '4vULFpGH9sCBdCfCC6p3Xo', '7rPLYmabWMobWhoIqZe6rh', '4S8d14HvHb70ImctNgVzQQ', '42GcjriRK6srwHkfbkBqVl', '6mXwoyzrpb4T5Iveoo4k5G', '4uQ7wYsuL0DryknoDc11Hk', '734xplxSpoW22U5OeeZcr8', '2TElexeJMX3OyXil4DWbVs', '0Q2n5yzl2XRqYbV77tZNYp', '2St8HeG23Nzp4NYaWTNtuM', '4cSSL3YafYjM3yjgFO1vJg', '74fV8TuLZKVzSIOOGu8wwI', '4sWuPniHClkInYAnzXAYUF', '239AbcyCSYFkBmWrGAlBky', '4dVpf9jZjcORqGTLUaeYj9', '7xVLFuuYdAvcTfcP3IG3dS', '76T8y91xMLWJgfsEsmWGxW', '4yJ61FeTLi14BHzJXzurPi', '25rc1PFgPvtV6GFSloyOI0', '2EUNZfjPToKZIahK0WMLKd', '2hPNuVVSV1tqiD2uPlfehz', '4XTWiowLNAWfdc3YNq59VU', '33RKGVnB3zWdvHwTpq4ApA', '0zYkf4pCiGAhEp5Z3iUkml', '3CDPxxAnFphNky4FpGugDS', '3P5iJl5H2nOmWNMsCFuqFs', '4hyjgR9LU4B31xK6iIr6w7', '7cneuh5BMBbqbbGrpqTDHQ', '0lchLc0vSyRRqKSPIkFtJI', '5uIRujGRZv5t4fGKkUTv4n', '423VyysMCduMmvqDH5oGEB', '3lB0GMiI5KxDbTOG8V3bOx', '4vcyK8QHE6WsqiSnaBOtOS', '0ARp9mXXpPflIwehy25kCa', '6hchk7cCDULpk2ag8JFjXQ', '36HmaGr3Q3pRwT8Q9HPFLZ', '6vw4YLRXNvtFxA2yxVrR6H', '4FUrVPC15KK8OcABXprp3Z', '6rDunNC3OsxLUkxK1aEjnL', '2IoEP9SKwBpm4DL89MKTDZ', '5MZQIjtghyFc4sMVUzD7MD', '6HguG9HRb1Ke1bhihfE4m8', '19zPT36WogsfBd8HIaUnt4', '19y7Eh2ORRo6spiEcr4aTU', '3UBkhPyI6UfmH86bxxPLcb', '5dmPNuHmRRJuHmJTDa7NuJ', '1qAcX4wZpol2I0QtDSck3L', '79LfU5ufUmiLvLURU23Yyf', '4PvbbMYL4fkToni5BLaYRb', '5G7602PyF33hYDi4utEpoZ', '4HKl7nxuuky1ICnldu6Jvz', '76c9yn9NDJDYswNcJIBT7c', '1Fwppfa2qKDAETKveNFsHR', '62PclpoBFLl50PJpiJA5RT', '5DYD4zlGiFlkpLaf2Bk8Vl', '0GL1ye91pT3nJIQzXwncG2', '11xRCe6bPQ9fRhz70dqF9N', '07tOsOR7E9zW89v2FqzsdG', '6Bf60fQDrQ2Mu2hi9dPfpI', '65c7ThLCjdleiLILiri41Z', '6KwSdmAba8BxoxVXPw70LO', '3pROf3AwBDvr2LaGfpZFnT', '2nelvMgL7LyIUAYwmmRyy1', '0I74hVw1WxIayHNGxnBqQn', '27BpBnTNtY9SBrE3EusnM6', '77Ezu3tBE7gmzQ4mRnZZUf', '5o9xRcKTgpXnoLj1UY46yJ', '0erHRpul2OsRSuImLHQ3X4', '3BpUZB0tw4zNmG3Iw1mclL', '6WmXvFj5eGUXPYzMpiCMhr', '6WVheb5G29cbDOzF4qMfli', '2HsKkeVWys5Ts20z3e5lT0', '16ugd5FcygQ0S8szE1FFsg', '5FVd6KXrgO9B3JPmC8OPst', '086myS9r57YsLbJpU0TgK9', '5TTGoX70AFrTvuEtqHK37S', '75n7mraeMycQOl2sDGYaTe', '2LGdO5MtFdyphi2EihANZG', '7e8utCy2JlSB8dRHKi49xM', '13NCxLOlvQ4Tnexgfp03Gs', '3BcQFPRZuuUClWStz29WjN', '58ge6dfP91o9oXMzq3XkIS', '2AT8iROs4FQueDv2c8q2KE', '29EkMZmUNz1WsuzaMtVo1i', '3Rleu2vd9qHGjRJdcFtPbC', '0RN9h0ojhQWtAD6O8X7Zzp', '3geFzA6VBSNZUTmV3bCry6', '0FgNSsaSZTvbLXUumSO8LQ', '28dQlavHTyrEkmI7w7Nivp', '2QIbiBkgr2pepvCkmWi3Vn', '7MXVkk9YMctZqd1Srtv4MB', '4F7A0DXBrmUAkp32uenhZt', '4oeaIftdpT3JuZLcCkKmVE', '4XaW4jIud5YxwV4QRJOb40', '4ea9w8c4ROqiZpJVhfBA3m', '7IC0bFfGCYpdVOTcaIP8Wk', '7tk5tOCj84jine8kKJkPYs', '4cg1yakyRSIOjxKM2I7J1q', '6o4nVtywF4F75RkOcDxrtd', '1jk9c0gZI0wbn5GvAj7PBV', '4BP0An7SXctTY4kF41JxIQ', '7EiZI6JVHllARrX9PUvAdX', '33JcUj9qQDayKswunZP9ar', '38QmUDpkoYlNbMKvpvAsrE', '0E6PsO3ymCfUh7pJQjBgkj', '68iIALIAQ03juj9BZpafox', '4w8niZpiMy6qz1mntFA5uM', '3B54sVLJ402zGa6Xm4YGNe', '08Bfk5Y2S5fCxgxk371Eel', '3deRMhnycNFbCZHCCld9oy', '44Yrt6xIUdcooTbDh57hrF', '2JyFEakn6g1wzDstMbH0rq', '1nYeVF5vIBxMxfPoL0SIWg', '6DXZiYUbrYgrVIhfX3U9Z2', '4rPkN1FMzQyFNP9cLUGIIB', '1TIiWomS4i0Ikaf9EKdcLn', '3tJ4y2Zqx6gM9xOAuFfsSF', '6osaMSJh9NguagEDQcZaKx', '69bDRy5MeWQl1lNeEJQIBE', '6UbfuPifNmblRiaE8vQ08U', '43bYs8QkPdCdy5esfnmU1T', '39LLxExYz6ewLAcYrzQQyP', '3yOlyBJuViE2YSGn3nVE1K', '24ySl2hOPGCDcxBxFIqWBu', '7yBbV2k2S2uhaQc24NF2xt', '1IWNylpZ477gIVUDpJL66u', '7JDbfYUHjDzQPFSDh5lzGs', '7sKbyYeJnITO1Eh9xd0lKd', '5DttNeiizFqWUON9hZBqTY', '4w47S36wQGBhGg073q3nt7', '7Feaw9WAEREY0DUOSXJLOM', '1rDRBVSqKgs3K9HiX5OTrL', '2J4P46vCFm1rPkNkp9pZWX', '5nujrmhLynf4yMoMtj8AQF', '5sJwRlYM8Wg9vGrfe0FNTO', '7iwhbx1YQcQ675DTj6AmAb', '5sTSeo2f3Rjo7eMV1AdlEM', '0zLCBJZSiELJf02ucPP9wb', '5dqPiZRxbnm3o6CiC4H4Mw', '4rwF6L0Yq6K2R3WfQYSoLu', '60jzFy6Nn4M0iD1d94oteF', '7D8aQaRzoi9Qzz5yerVK5b', '6g0Orsxv6glTJCt4cHsRsQ', '3jVtllWS5CFFWLQng8sKsr', '0Dc7J9VPV4eOInoxUiZrsL', '31NMNope0DzCCQqtuF41tx', '0MlNfka4EasqSGG9GqKAGn', '2lWfROZYuJQ5zDM5VRuhUO', '7f5trao56t7sB7f14QDTmp', '2Z71PZlOeF9YVze4hy1A1a', '7pH9qFDfm4tmlEXn9O1VeN', '4d1rbduDhFm5e5xyRHPyoc', '1VzsS5tPCG6reQ9LoTMUpn', '0gEMFd51OK7RCSz3YaHcfv', '05rJdH2MRLJ3sQoEUO78qs', '16iNVfWKKZPDjctIcd0KMn', '4zjnIFwvoFqpJnxFL2C0K8', '4zjnIFwvoFqpJnxFL2C0K8', '4zjnIFwvoFqpJnxFL2C0K8', '4zjnIFwvoFqpJnxFL2C0K8', '4zjnIFwvoFqpJnxFL2C0K8', '4zjnIFwvoFqpJnxFL2C0K8', '4zjnIFwvoFqpJnxFL2C0K8', '4zjnIFwvoFqpJnxFL2C0K8', '4zjnIFwvoFqpJnxFL2C0K8', '4zjnIFwvoFqpJnxFL2C0K8', '4zjnIFwvoFqpJnxFL2C0K8', '4zjnIFwvoFqpJnxFL2C0K8', '4zjnIFwvoFqpJnxFL2C0K8', '4zjnIFwvoFqpJnxFL2C0K8', '4zjnIFwvoFqpJnxFL2C0K8', '4zjnIFwvoFqpJnxFL2C0K8', '4zjnIFwvoFqpJnxFL2C0K8', '4zjnIFwvoFqpJnxFL2C0K8', '4zjnIFwvoFqpJnxFL2C0K8', '4zjnIFwvoFqpJnxFL2C0K8', '4zjnIFwvoFqpJnxFL2C0K8', '4zjnIFwvoFqpJnxFL2C0K8', '4zjnIFwvoFqpJnxFL2C0K8', '4zjnIFwvoFqpJnxFL2C0K8', '4zjnIFwvoFqpJnxFL2C0K8', '4zjnIFwvoFqpJnxFL2C0K8', '4zjnIFwvoFqpJnxFL2C0K8', '4zjnIFwvoFqpJnxFL2C0K8', '4zjnIFwvoFqpJnxFL2C0K8', '4zjnIFwvoFqpJnxFL2C0K8', '53NnWGr1vYCKdudGVPmeRm', '6o2M8hD5k585xQYIiJSK2C', '2VhbfT4qyB4KFhVEDplXxX', '0vTJP35J4M1PY9iAA8UmbV', '5EJBlppQi8fmilN1fLhkc9', '0bN9dE1vC88KwQJL60VOdD', '0lnfcWRREvnGtXPP2ZDeq7', '3F0mcxksBp33QrL6oyjvLN', '7woCxOw0jmj65ohlQ3x0tH', '0cZcOtDqLaavK7LowhTBsa', '4P1R7l6p2DXWi0zytjxUi8', '2QLoxnf8H9MVHdlJt6l3Pe', '6gIPjfVx0TRu7OQYgGAS9M', '3FSv45lFIK0Wmk4kibiB45', '06pokVmH9BZjHCw84AN8SH', '5FWPdgtQACI6DPE2CBPUpm', '6cUMztYsgtLDy11HjjxXru', '1RM3e7FmQ0ItMFU9DO6J92', '03n1AsnzGMLwxtOWPKwV6p', '6LVvVhpEgEVBLfAhV2zf2X', '34AIHInG8NG2KqGuPrRnkR', '3xNXGFG9H7CXCtGcprGzpB', '4BPh6dygQuLpepxWGopsQt', '7yz6BqHyKzteHca6yE7fSi', '255MV9CfkXOb6QVc0ClQp8', '6bdue0yuLYMqNhkzenLdc8', '2Nugvojy1Wj11vlishRU9y', '5zYStkObt822iNsyiRnSsw', '6Yt6ejSNWqnqNWiLTvazpq', '5QowS4ZGYBQQHkPRdIMt1B', '3u3vNGyoOcbzLmYMstwb9p', '44jWKObIBV2EHXhybxtoet', '39tVOYqh0NCwBt2w6yOqZa', '6o2M8hD5k585xQYIiJSK2C', '4rfnsMWBBZ3vXbBQW9b2NS', '7pIH6Bumcktw8G2M8NxibD', '3tlOX4uk0xGcYeYmxDwgJZ', '6X4Gye3T1yoCJlP5bRYiyG', '409qKxk7E9CgexP3F9HnKo', '5JIlZB4ibaDJ35dCvowNjW', '45DfqxewgPTZJOdAzV8tbV', '7LxaAPAJPdFHrJAM5eFrrs', '54Su7wMqbNGcXwhle1t87y', '0lZwumiLo3yINe5vc3Y79M', '7qijlge2XFWZGf4PBs7gZS', '1PfyO9JH0pYZR0LA90iQbA', '3Mhm3Srwzmmp5K1EjNaQXO', '2Erxg2IbbS930i764qe5Yj', '53rF5cQ84uhtnipihfay57', '2qq16fier5zcTf6v9LCgvY', '2B2DoTt6xuP1NrR7pKZBR8', '2nMNBKNWbTsnq14L1ZT0Xc', '3btBZHE24HptQ5mKTZzgNu', '1GpoeketQGdCytbw8IO4RH', '4TYZC3YR9a6P4APLqRBtyU', '69q3461XnzgorPv2fmF3s0', '2tOqG9D254OpMBjsjmPP6t', '3Cba5qxitvJ1AYw2UTbEy7', '2Ihzy5myaOum8DTcairvSb', '24qUMsnKMbxcXNXfvzgV9y', '1KiBpHXhrNv84FW9FGeeWe', '0OJLzinqjcLi8npIRoCvCz', '78d5YZZYnlx9sb7Lrws63y', '0CmxaLer8GhPHXcFaJcaot', '0tag7bui8OPB6m1a3Hhwpy', '64iJy1NWP9ghyRPpwKV7sC', '39EM24NADUHcf6vcZIFWKf', '4nxTHbrP3CYZtOsdsa682X', '6sJiPhzfbemXoMly0KskYT', '62hoqeRl45UGGtzskhDICc', '4XCflK0Q5WmpaQFsh6ly8C', '4L9NChljxi1xu4NdV0Uruo', '5Kew28CfqqvFl20N0rKUxg', '6KiYflD4cNc6lGmDe8VFla', '3ho7ODJyClN4tEaVpzb5cc', '23gcQr3NRKzLXsP9H5jFQ1', '1XVfKrm66K3yWKW0CeQvQk', '5z4OfDdPCr7ATvhGiZpQbn', '1t0PRcBu1NPqSXe1GNVtUa', '0t6PFnmkwRdmcLDArYTLdk', '4IDfxV8Knca5Oh7Un4nc4N', '6DQZSyFzvDs7vhWwjN6vGW', '6ZUl2m2NdqfZDwWuJPViAX', '31OJbBoYl17LPmWnQuYEUQ', '6oV7nRogCDJ8pRZlO5gNVx', '4w0dJXbXYiRC06s4GnTEKB', '4A5gLYGzJC5PRx5sdfoX3N', '0BD9XqvXSSxlHsdBlLKhqA', '6UFZBPUhfvkN4JRAJ5vOLQ', '6krakCJNLZNH0QwfBjjrgp', '3vywz8tUa1fphXyFRx9lG2', '35T92ziBHBzMRtSp6w17Pr', '23N7CSL5AzNa8UArkHWgVb', '6Yjs9ZfEcilbwQ8Savgc6E', '4ivQ4XhX3l3JCaA1ruK6I8', '3msnevxJ0hSqYTxT0KG8m4', '204GeoZOIhGrLRjTu3az46', '2FKsGoYghIBDdxsXXBIfJg', '1bUoQ5YZ9IL86uKb5B8SKe', '3by8TFARD2faf2MjZbooSH', '12HERirGFt9YNX3r6bdIP1', '4ITftSVpf4XkYoDqqpWjBX', '2xLMifQCjDGFmkHkpNLD9h', '3Il1ess0dinvEagLM3dTzG', '7ms3VzLTfr7fXNOqA4Mkx9', '6wWaVoUOzLQJHd3bWAUpdZ', '3XHdk0KVdgO2sRH5dqibFB', '5pHJv0bgNsT9nPoK2BjNBn', '3WRIaWsws011vHMd9uzPjG', '7ssEhls1ZYEGtBsoovkMSe', '68449VKGwYShObwI2UFdFt', '7mv4eldXEFbf3s3ZEfbmlC', '2d8JP84HNLKhmd6IYOoupQ', '5MUxrNd7Gr2HksLcAlB0IO', '63KKvdfkStMHQM4Ufzx2KB', '08zAFXhfyIxq9359NHksdP', '1Hd2XLitkt1PYCWSbfF5qV', '72ic9IhRix05fIkRzGGMXD', '6V7g6qM8wheMivMWrzbPTM', '4dulFGnSzdNW3iNdxxzgy7', '500l6Cwe40hkPqS7Sf7ufY', '3Il1ess0dinvEagLM3dTzG', '3evNCP0dfoI8lXvSF1tRnN', '04MLEeAMuV9IlHEsD8vF6A', '77o1HdXHm1hLd7Ebe9ygd0', '2lH43POZa4XHxydnZizET5', '4ITftSVpf4XkYoDqqpWjBX', '2xLMifQCjDGFmkHkpNLD9h', '0gV5B7zmJkS1aaH9APokrH', '5MUxrNd7Gr2HksLcAlB0IO', '7g7raxdQpiLZT7aOlib4S1', '7KOlJ92bu51cltsD9KU5I7', '1dQ84P0W0lOckT02lPEhhP', '59LUh4amaXhgrWh6mWKbCn', '5Vvu6MkyvNVdbsD5oV49Aw', '4AZ31ri9jbxfwYBNDmOBLB', '68449VKGwYShObwI2UFdFt', '4dulFGnSzdNW3iNdxxzgy7', '3WyRgi8CzQnhzO0xw79tTS', '4CDzxLnX6f8IpaFo0Na51x', '1D23GEeQ32aqLw5ZnY3Ivp', '2q0VexHJirnUPnEOhr2DxK', '4YZbVct8l9MnAVIROnLQdx', '4QhWbupniDd44EDtnh2bFJ', '6Nle9hKrkL1wQpwNfEkxjh', '5lcyIeEfwZTs8Ajw3kdF7P', '6gpcs5eMhJwax4mIfKDYQk', '6MEDfjHxnVNcYmHe3mM6L2', '6R6ihJhRbgu7JxJKIbW57w', '4osgfFTICMkcGbbigdsa53', '2ZWlPOoWh0626oTaHrnl2a', '3xKsf9qdS1CyvXSMEid6g8', '36J0iaPDGbYGsHvYpaYs3k', '6JG0qhINKVwiHxqN85j7RG', '3mTpegrOwRn0oJjv4TSbEE', '6Nw1WHydftZy2joT2nTiCR', '2wAJTrFhCnQyNSD3oUgTZO', '2zsa7Z6gCA5eBg0p9pbyLs', '16qYlQ6koFxYVbiJbGHblz', '19a3JfW8BQwqHWUMbcqSx8', '3nAq2hCr1oWsIU54tS98pL', '7fQmDkqrrj13kxv4Vle3AM', '2P3SLxeQHPqh8qKB6gtJY2', '5DO1SazQppcsKQ1c1JpyQz', '7wdzLe2Gsx1RGqbvYZHASz', '0R9U7yIlLm8KAL6iQbwKKT', '0Omhxcy38tjNxqVZshdfpf', None, '6MF4tRr5lU8qok8IKaFOBE', '5WnfnSpuNEGXyEt78PBA6d', '2RPbEp0DyBVlkRvvYKopO7', '5FX89IUKm9QJT9ymrmyK4k', '17JA4HlieSH7TY3pQk21MJ', '0zLClc0emc6qUeV1p5nc99', '6zSwnPvoqQ2bzvYMlt3u4u', '00ogmsZiK6dB0QVUDBeehZ', '7x9vJE3Xa7mIH106rzO9Tk', '4yOT0bYT83QZ0aXlJ3Tb2p', '6rDunNC3OsxLUkxK1aEjnL', '1tNJrcVe6gwLEiZCtprs1u', '5mCPDVBb16L4XQwDdbRUpz', '2VMJkgrhqfOOYBlZif2nvX', '5Fkd35zvu5RBoBQwC5KZdZ', '5hVghJ4KaYES3BFUATCYn0', '3KkXRkHbMCARz0aVfEt68P', '4LGg2NY9eHp0jF3L1WbCNl', '4j3GWI86JvSaF0BLdmgcfF', '7p4vHnYXkxlzvfePJVpcTr', '0wXuerDYiBnERgIpbb3JBR', '297rZsBEjFw9d0Gl3iBLnd', '5BoDFGTXZ8j5muc6Sb2jMz', '4f8Mh5wuWHOsfXtzjrJB3t', '4IroNECciKcq3M2QtSTus7', '7l5j3FapCyr6HxUgoAynM2', '7gEsvmNXEFu0I1gR3x8YGl', '3NEjuId3qYDT482ykUBbeI', '6gigGFhKguOzObNC5QZbeW', '0SL3t6hWTxesu7A3z2prmV', '2CB1boDu1c9FOp09Oylq6r', '3iv26BUAWSn83q8rhGKPE8', '1wRSOWVqpLIrMCo4vevEef', '4XNPZFA6HMhkIkbJBDo70X', '3f9Mzvd3URfbbIJBX4pz9Z', '1qAcX4wZpol2I0QtDSck3L', '5OkYfk72CNL8XLqa3gp9q7', '1oJZx6GqvuyzUgPu5OBxlY', '7mOVlQvpqrji4h2CsNWFYk', '5WvAo7DNuPRmk4APhdPzi8', '4kWO6O1BUXcZmaxitpVUwp', '1jYiIOC5d6soxkJP81fxq2', '6Dq8FZrvx9S28iyaKSwn9x', '0PJIbOdMs3bd5AT8liULMQ', '0v9Wz8o0BT8DU38R4ddjeH', '60xaS8mYBKUW4VQQ666N0T', '2Nh2cMryoXl7BrZoIeN2Pr', '7L7KnCltNM8yXWs3ozuUY1', '6gpcs5eMhJwax4mIfKDYQk', '2DGhgO1gZIwb7Qph3DEFxu', '1N90cV79gbBgO0bOs74Y0t', '6jjQHv8A394Dz1HjYrr2jv', '5iMyOIWo18RV1LX86A3nWS', '23e6ly5nFanMQOk4cAwJj2', '3bwCMbwDZVtvJDnUTQIdCX', '6bUNEbXT7HovLW6BgPCBsb', '15EPc80XuFrb2LmOzGjuRg', '1DRW9bQzt2SE8f7H4KJZyL', '6Xi897JXNLSoIaoYZwgTLc', '6TaqooOXAEcijL6G1AWS2K', '3XJhDig11wzszomesWNOnV', '5075foWfaIxJZr3hGMopXO', '3B54sVLJ402zGa6Xm4YGNe', '2p37Mfy2PWajgOS3i2aaep', '08zJpaUQVi9FrKv2e32Bah', '7tr2za8SQg2CI8EDgrdtNl', '1OxL1FWSEd7QmJoWLRP2NO', '5PnBpKOVvQxeFvXVNYSoxs', '3PfcqdwpjLepyjNwMnj4kG', '5NhlpQ6BOIz3S5welptk1W', '41L3O37CECZt3N7ziG2z7l', '1Np92e0PSE4OzqZyGFTOsh', '3geFzA6VBSNZUTmV3bCry6', '7e8utCy2JlSB8dRHKi49xM', '5TTGoX70AFrTvuEtqHK37S', '75n7mraeMycQOl2sDGYaTe', '6NGvyhGjKSKkyN3yc4YNhD', '0RN9h0ojhQWtAD6O8X7Zzp', '58ge6dfP91o9oXMzq3XkIS', '7ABWRukVQcXrIrDKDx5Gek', '4Sib57MmYGJzSvkW84jTwh', '7CneiDesUKFJO3Ix01dnfr', '1p80LdxRV74UKvL8gnD7ky', '72jCZdH0Lhg93z6Z4hBjgj', '5xTtaWoae3wi06K5WfVUUH', '1vrd6UOGamcKNGnSHJQlSt', '2y5aJvzXhHPA94U5GFAcXe', '7AEAGTc8cReDqcbPoY9gwo', '59HjlYCeBsxdI0fcm3zglw', '5troof8mcGO3AafoDbk1gc', '3GCL1PydwsLodcpv0Ll1ch', '2ULNeSomDxVNmdDy8VxEBU', '7ut4Y7gxOFe3d3rLJQ7i5w', '273dCMFseLcVsoSWx59IoE', '2TF4UtYreqNbQ6Z9AccldU', '3JbSLr2OhsivV46whJyGeb', '0cITLOYn1Sv4q27zZPqlNK', '3DrjZArsPsoqbLzUZZV1Id', '3A6wCRe6QoH7Ea5JMpnRB8', '2QD7DklEvkqncYacmhMukq', '3TcMyNevhQZ35yaA8jHSBq', '5YPTYLMdNEgk7CPNPqqFyA', '15DeqWWQB4dcEWzJg15VrN', '4NAmRvqSITAAzKWnC8yRq3', '4wFUdSCer8bdQsrp1M90sa', '5yEPktRqvIhko5QFF3aBhQ', '6Eu31gddWw0gOGO506pJYA', '0Om9WAB5RS09L80DyOfTNa', '4lIxdJw6W3Fg4vUIYCB0S5', '5OndtwLGA9O6XHFcGm2H7r', '4t0OI7XrODjSkAu3bTPmWj', '0dBW6ZsW8skfvoRfgeerBF', '0L4YCNRfXAoTvdpWeH2RGj', '6qnM0XXPZOINWA778uNqQ9', '10eBRyImhfqVvkiVEGf0N0', '6wn61Fzx9XMxQmieLpoIhW', '0dAb8TY433dl3ZfXYCLE19', '3RBluWmSoG2pGA1OePzGJI', '32mVHdy0bi1XKgr0ajsBlG', '0M7mWKqwTIaVjYyxfZmtTa', '5CQVc3q2gQ9rnnFgyn84bU', '69ku805AjIcFQh0IfkGohf', '3e41nkMyqcAwaQCXJVj87G', '3wKfQaOgFxZ0qhXjo4iqlI', '4WygRabom8WGpPb44r40sK', '4yBPSbkj2vCeiPZZUKPK3v', '4Y5yjzs9FFw5qIgfZBd43I', '3lUizfXlBYvhDTYXk2X96w', '17X2tSzibD9n9QRjdExcWT', '15cGdiAHmezm0P04jVAjMo', '02j4BAJcS1nikK36dJjKtC', '6aPc6SSWgTsiXrrUpJCPlj', '7J5TRQcDow0hp1krnjQ4lP', '623lYBOJ7bLwh1bu3yeN5V', '4aVx6lEn42OfZkNz8hrBYM', '73hlXep4OHLx28ewDZXexh', '68iwafs32FXpAIDWqU8wdU', '0dOg1ySSI7NkpAe89Zo0b9', '2QgWuCtBpNIpl5trmKCxRf', '4yym5ZJXwvg03d4kyhLVZO', '1vD4DN56ued7pQklJBDesw', '3BcGTyGnofcaQlxEaHyuPD', '64bWFjtzBRVSllQz9H2RAY', '7hhhV61dsJvZmS526eGC1f', '1tTZM7LUDkxcykOVVIGW4W', '5murjWJBIFN1ntLNVugKFn', '1LV5G400jD3Ytvyv6Dlkym', '6VRhkROS2SZHGlp0pxndbJ', '1ShWHEgisDGPl9G3g85ANu', '687RRToOFAtpqZRzmbhGtu', '11ZJb66Ag7gjTmLBKF8ZuZ', '3FUZpoj9VV0sgc8RqbS3xQ', '1SbqxemPdwGlvmirtQVkCU', '0lEwO2YMAAMS9yA7mRm2Qj', '08qPrqMvFQfcvyGHdkH1UN', '4AQ0FuLnPIM4rDKH4VleLD', '4L9Ds4mpD3SuYoWwFUlv16', '4qQwGRtGT7l6ckQtdPEFd4', '4kU4mk9V1wMjxroJzyWAHv', '6GrPuAwc1WApDcuhP7E2fw', '5UYFqUJBBVgpGqdONKbH3t', '3dIvnXEqvm8drsoCtnWWFw', '7lR681gCdubcd1wWVsHq7Y', '20kIz84ivvDt8LTJu6MSyN', '1NJnv7vvUZ5xM1DIWbngmN', '66OqnHUVdcpj1RJJh6ady9', '2lf3fWzNhL5518BVE9iUlt', '4QvS0vp9g5qoGl4aupY2iR', '2h8szyWmfavIbiWm0KWpB0', '7ibxBJTi65IESyScbTGriO', '2JSnL1yIvXW2PMXuPLD4Vd', '24nFfy0Vq58gQdbpHP5aXw', '7dnDBbHKyJNFXoeVwO8KBY', '6uFe46bPkUSA24LQzn0qGm', '1a95PcmsAcwd2gEMou65ot', '3N7PyfgCJjxAoqCMqPc8Vn', '0JzYJgd439Cz9Wz5x6hVdR', '4vXA1OBRNWYZjdi3nSEvJq', '4fxSyxD5MY7I2iqJRyUZAx', '7uzfCdCL7MqCbV8ycN32hP', '3XRosKfSgFSDIb6YVpApIl', '5Muz0cWMeAZjEtpGw3pGZa', '1OWu2Vin6WH1gVvgO05Pw8', '5VuxWXbt7XENQCtE9TzpTv', '2HuHVkQC4P4ePPi0MZa9KD', '0At2qAoaVjIwWNAqrscXli', '45Egmo7icyopuzJN0oMEdk', '423VyysMCduMmvqDH5oGEB', '3FtYbEfBqAlGO46NUDQSAt', '6xagjcywpcyNFghafZPQJv', '5WoaF1B5XIEnWfmb5NZikf', '6VpN3fL6LBIeAbRpGlJCII', '5Wbjjde5ez7sx22OtmrXKV', '294T8la5m8J14SOfxQ9lV2', '0rTV5WefWd1J3OwIheTzxM', '1DUSuNhF8P5vUGNPpQiZa5', '0H8XeaJunhvpBdBFIYi6Sh', '0wdJgrDo4kosgObGnvjp5m', '3KkXRkHbMCARz0aVfEt68P', '2FyD0INgTsfAoqHHkpyXYJ', '10IH64DGeIiBnTeXL6smaz', '5ZJABzmKr9flocrtQqbINO', '5mexbTuWx9d8DPZk4sDGF4', '0WpDeBJ22LcwF4QoERQOTv', '1m8WpLYXEiNVZchsWEcCSy', '0QjXXdJ83V1bo5IxqsfLD9', '6dktyiCWz2JYGmcPQ5D5dY', '7c3SbTuufigBWURcICnAWy', '7hdM3l7whE3lTHP6WsoKZT', '7AOR3bPPaLBJKJB9EMURxI', '37F0uwRSrdzkBiuj0D5UHI', '2cEnYJKLSZPH7MFSk6C05c', '4j3GWI86JvSaF0BLdmgcfF', '60xaS8mYBKUW4VQQ666N0T', '5FpLsvdRNgWSEBWHx2VIkH', '2GlATHCDbLW7xq5BE0Bz5g', '21vwWfS6qvxh8TN3lgHvZr', '20a8Kq82BrX2AzepCgMhJ8', '3jEtESxn2ngF25DMD6vbBg', '0eWxDnXDbsR4h1kVk6rZdy', '2cRm43WgDFpOX0oqr6ujbB', '7pRcWov3NHxi0GDkKdbSb0', '6olUplztLFFfU7fMYmFXOP', '7jWgkIrTDiB3vF8dm5AUyQ', '7b9h63I7EafcW2pVS9pcUr', '5iUQMwxUPdJBFeGkePtM66', '4k5UZm89ZX0YAHUp55zpt9', '2UOAaxhSOWDgSaIWYeoaJk', '6NblUCwJXYkQlQ6LhcmSlQ', '0R9U7yIlLm8KAL6iQbwKKT', '1PVza5KmhSJhz12OewWciE', '322vI2bPcLJeDxltXD9hzD', '4F07ku5lMBIoybFPStM2j4', '44ByUAJyV8ZcRW3y5gqMpU', '0jqBo5RYn008f4ZY8kPewW', '5Z3GHaZ6ec9bsiI5BenrbY', '6kSgsughJ1LFHaClLGleIR', '7eqoqGkKwgOaWNNHx90uEZ', '70SjyVMzhmMeJQD8hOmIBp', '1UjyF6okUHhnVxaLV8ojsA', '6jjQHv8A394Dz1HjYrr2jv', '7p4vHnYXkxlzvfePJVpcTr', '1t4pPnbkOjzoA5RvsDjvUU', '0dWOFwdXrbBUYqD9DLsoyK', '6MTA4AwgmjVASTXpBEwvn8', '152lZdxL1OR0ZMW6KquMif', '4CpKEkdGbOJV51cSvx7SoG', '5LUkItW2c9cK2HotM1pEAC', '6n4g9rQE65ZgPQo32mWixM', '7HRv1sYuwgoea1m0JRvChV', '5fyqqaqTmcNDixYABJO99I', '6KacmqPPQ3LNoiGFuqGChs', '6SwRhMLwNqEi6alNPVG00n', '6PGoSes0D9eUDeeAafB2As', '5bBUDJUfGcG7eFy3Bf4fXv', '7uWVT3UkCAZyANvv0bdyQn', '5UHjWOJA6MDl1g3x2HC68V', '7ALEBJ8LOQqXVJ2tqnXtoH', '2hPNuVVSV1tqiD2uPlfehz', '0sSNa2XDu7dxbnjK0lKnDH', '2JmFRXaJrkAUD2cs6U20KG', '5v0C3nNNDMhZ3nWzzP0W4T', '6tZ3b7ik1QDXFAZlXib0YZ', '0utlOiJy2weVl9WTkcEWHy', '48yTs5eM5W3hAcxzuasi1O', '5oFK0dJQ5auokDaVYY228m', '1eu6vM3Q8wYKGYZCn26uMb', '4dulFGnSzdNW3iNdxxzgy7', '50S4mpD9sR0ITKEfC0O2cb', '5jyyPsIGM2yqkZN9R3TmvN', '388jD8ko9cvFM9cd9TYDrl', '6WSBZroxQaO3FYEpT2ACFH', '6hPSal3ragmfUt1I5mKZjn', '6Hgh47WXVKtXN5zGOu0hjI', '1jzIJcHCXneHw7ojC6LXiF', '6pQ58t6Qec0N0qZpYplTJW', '25VgWs8TUDSUJkHQYdsh8C', '70We9AqHenA4jcmXmKzJnZ', '0d8anwJJGti8jE79Y4tXUD', '3CMfea1T5q5gwAeGY56ZxH', '2fewvKX1SzRMfNdQDnyoQj', '5jC4UZs0XkdN4mu1PIyDbU', '59s5vTB8LNV4tyZPp9HM3f', '08bpbmc7rfP4e3MbqaqeHv', '4lhhYqzREcts4uOOqWHjRJ', '1nL2dMeHpY2LTufz1n2GKZ', '702LH54iFxKCFPVsBNZdvA', '5Z1XyAa4iDPfRDLyX4R48a', '2eM4Ew20VXdjBhm6a6Cs9l', '4XKLRlYnnz9OoD2jiduPZK', '6kUfA51KpIMGdKYrzWLkbn', '5Fkd35zvu5RBoBQwC5KZdZ', '4Wvpy20WmFSriRfByUi1NS', '72Dd7GCaepMi8ktuXxmSZF', '5jRJlGB5EP7HFKwYBKvlSA', '3WUiiqaOUI1K6ttDLS2dJ1', '30IC8IrryMmUW660TmvzYM', '3XRosKfSgFSDIb6YVpApIl', '5Muz0cWMeAZjEtpGw3pGZa', '1OWu2Vin6WH1gVvgO05Pw8', '5VuxWXbt7XENQCtE9TzpTv', '2HuHVkQC4P4ePPi0MZa9KD', '0At2qAoaVjIwWNAqrscXli', '45Egmo7icyopuzJN0oMEdk', '423VyysMCduMmvqDH5oGEB', '3FtYbEfBqAlGO46NUDQSAt', '6xagjcywpcyNFghafZPQJv', '5WoaF1B5XIEnWfmb5NZikf', '6VpN3fL6LBIeAbRpGlJCII', '5Wbjjde5ez7sx22OtmrXKV', '294T8la5m8J14SOfxQ9lV2', '1DUSuNhF8P5vUGNPpQiZa5', '0H8XeaJunhvpBdBFIYi6Sh', '0wdJgrDo4kosgObGnvjp5m', '3KkXRkHbMCARz0aVfEt68P', '2FyD0INgTsfAoqHHkpyXYJ', '5ZJABzmKr9flocrtQqbINO', '5mexbTuWx9d8DPZk4sDGF4', '0WpDeBJ22LcwF4QoERQOTv', '1m8WpLYXEiNVZchsWEcCSy', '0QjXXdJ83V1bo5IxqsfLD9', '6dktyiCWz2JYGmcPQ5D5dY', '7c3SbTuufigBWURcICnAWy', '7hdM3l7whE3lTHP6WsoKZT', '7AOR3bPPaLBJKJB9EMURxI', '37F0uwRSrdzkBiuj0D5UHI', '4j3GWI86JvSaF0BLdmgcfF', '5FpLsvdRNgWSEBWHx2VIkH', '2GlATHCDbLW7xq5BE0Bz5g', '39NDBdU5Xkm5pCFGa5kZtI', '5xok0LRntz8qY9ljEwPV9L', '6rDunNC3OsxLUkxK1aEjnL', '10TN0WSmKI3O6yJuRNblYg', '13e6f8t7RKXuxZ0JdaaJRG', '5NFvO2q4uSe74brg89xMkI', '4KaiIuQH1EH65zWQgyWWaQ', '4jwP0pxx7su04FYc6J12EQ', '6NOdD9M3uXCQbHoxLChMn0', '1eiHoDJZACAZDn9lU7AuIx', '7dnSXaCjLdFiWZa8s5wP1n', '4FUrVPC15KK8OcABXprp3Z', '1F1QmI8TMHir9SUFrooq5F', '6oDXwSPWcp7KT2B3funF8y', '6JjEVlMkfHWMeYavkEYzNO', '6CiUruh8FwSRbv0qngVpsf', '6ptJ3y9QvcFgoH7eJIQDf3', '4Vk4Yf7pDmB1dxLFSTjBUH', '54IbnYEdA3ymfxv07WgN3b', '5xjTqz4aYQeBnFhwMPmfx9', '7zgoHkxLgchJwPdhbJhQ3K', '70pZIQqQ37SrNCADx0FiPN', '3iGNoYKIabGohB9A0C7dKU', '0SL3t6hWTxesu7A3z2prmV', '2OK78skf6Xgf1jTu6gQoC9', '2MnEG4htbbdfoUsyzxZ4BM', '3N1X0p33zThSShYv9bVx2I', '0dmafcQm47lVWFCoe2h9eX', '3f9Mzvd3URfbbIJBX4pz9Z', '2w2XmZLVvSSb30Dkkfeq2X', '2W7aGVjWM4K2bdbzEz4jQP', '15EPc80XuFrb2LmOzGjuRg', '2AG3B8ZjK6AGK6JKhfVrRW', '57l8DihxRmisuf475H7RnO', '4gErEUBzsNChBuqk9jgycY', '0a8iHqEqV1FAcRGyDTKFym', '4ir5WlzsgiP6TEbRtkhCGR', '7zDu3l7DDlfSlt20YMKkWo', '0Lhy1sDDdtUFY2pyq2ZVi9', '5JPF1NwO99YaxEF7AYFa0Z', '77dndbiAibMrQEftceAjLr', '0MURF0yjHOChxkrlUrLQWk', '4tUV3qVS1tIT5K2vbwo7Kh', '76c9yn9NDJDYswNcJIBT7c', '5H1H2gRlCaB0mj961DCuFT', '0q75NwOoFiARAVp4EXU4Bs', '0P6AWOA4LG1XOctzaVu5tt', '6b3KUNSmJL1qIfi1hF1G6Y', None, '5fCfm8eqLqzdUVM8CRLaIE', '5x3v1Td2EkrUJfscZdb6zJ', '0q1MM7GUhO1QHe37MSYrzG', '6lDfHLmWTr1JnVgQhVBy41', '3KkXRkHbMCARz0aVfEt68P', '6MWtB6iiXyIwun0YzU6DFP', '1RYibLoUBdckot7lYPxu96', '2OsDoAzo5SGq10qwmKSQBv', '7kWOOLjhvTsfNFHdu9iWWl', '2gCZzizzCdcWHqksfvJbpN', '0kCBorRrKZkSztd9m0QI3r', '6SkHm6poyKfzV6kc9any8k', '7pdF27mSDuPWhppnHAmWHa', '63SevszngYpZOwf63o61K4', '3XRosKfSgFSDIb6YVpApIl', '0FgNSsaSZTvbLXUumSO8LQ', '5LuXEmya3JlX3ZfdudPAbO', '3CDPxxAnFphNky4FpGugDS', '7vptmeNwSEVkcwDdqk7UQO', '1gnYyhbQVmPskm6idTMrx3', '74SiMxFuGC4SYuIGRBIIcZ', '1qJRHo7u8xep1Qk2e4QhOe', '2p132CMDRBL3m7M52NV2o5', '7aXsphC1U98zojpL1RdFLE', '3Ty7OTBNSigGEpeW2PqcsC', '0jE8LoiBKNQJTV5WEr1VCo', '5Muz0cWMeAZjEtpGw3pGZa', '2MUxhbzrTbU8q7uUMwdQwh', '3LH6EfPCeySeuymuK2gWAO', '2dwvxOHnQjndZLowIR6PiS', '6k8Z9CtoRLk9mXarke5LHQ', '2qmqGwnHxCz2XsZNtVt2TJ', '1RGasjWLZ4qMN7wbtkLa3u', '4SzD3INvh971Kn50IpLL0U', '0JWhOjXZvKRtD6n1H6CRVV', '3ijo1UGnywzuH1YIqnSdo3', '7cneuh5BMBbqbbGrpqTDHQ', '2kaZuAnq8jwPzVxGiqTdus', '423VyysMCduMmvqDH5oGEB', '01TyFEZu6mHbffsVfxgrFn', '7JvjjlZ5R1I1xRDsEkPuJ7', '4IIatA16Oorqosi2DIHtxU', '2XELtFPg5H2Xmg6eas6dII', '1OWu2Vin6WH1gVvgO05Pw8', '2DoO0sn4SbUrz7Uay9ACTM', '3pJQY7UuX0DcE8pgLZhCjf', '0LWfUHni3AITNe28V3wo3j', '4vcyK8QHE6WsqiSnaBOtOS', '3fKOMqJToZH96WgR8zzN7h', '3Ipgo2twyvBySMwsTzunlH', '3coUcc0CDAHz2QwdP7Pee8', '6hchk7cCDULpk2ag8JFjXQ', '0cVquG5bipDxlQ8rLbX52d', '2MzQd7zPsbN73mjr90AkL0', '6Kk8BZZiRIClaHm0Qmkj12', '4FUrVPC15KK8OcABXprp3Z', '3DCU0R5FFaB9GKxZERb5wr', '1w4zsr8vQDFkVDOX22hEOF', '1oJ8EDr2pv94IvSd6ZmDgo', '7lAK3oHbfEnvUQWosrMMpR', '27gIYiauwut951G7lpt9Zr', '3Ee6DIAcyueyz2wOe81vc3', '4S8d14HvHb70ImctNgVzQQ', '38Vjqr7xTeIzDpclKOkzli', '2IRZnDFmlqMuOrYOLnZZyc', '3b0Voi6WMkuyX7EVa6QKgA', '41uX0L4bro4KfKtDIIEFFe', '0iTCmKvuU1ReULiQB0rI7n', '2R7Gn3cjnPaVO0Oj8nsTDP', '6MWtB6iiXyIwun0YzU6DFP', '1Jl21sidRpEdlVBvYbssLx', '6wWaVoUOzLQJHd3bWAUpdZ', '3m2aDCqn8eT5ElXDUiboGU', '0Ddo7V624nt4vGDWhdarJH', '3ETuAA7l5IxmBwlhTa6Lck', '4KYS9GK68yeuUJ8vJfPxrq', '5I30ByMf5nhgbSokY1EZiN', '2OsDoAzo5SGq10qwmKSQBv', '6Gy7rXB6Ku5vIWC7WGWsl3', '40wyhIkaVvuZUAbAiTOkHI', '40WxFAbt8UEK7jKLmIxRNY', '6o4nVtywF4F75RkOcDxrtd', '14mHfNsSHN0FbLftyjrV9g', '2oHxuNlj8cdpqxpum3DWkj', '70FzPO5rw9GACwmf8iXp1q', '63cd4JkwGgYJrbOizbfmsp', '6hg33MHwl5zBqPY4TCibNh', '45GAGdDvQVSjm1GvSzabrq', '30bPWrUfDae4AfR9jXAjQ3', '2EGtBS7Ws3ajiSkJLviFJ4', '4Mnr3BZXk5OtoGEKjGJ6nT', '7K0iidDYDudSm9BoSt901M', '3g9TyWZAiKs7Np7oztsG41', '2SIdGJTWirTxRNEyCp9ocI', '7hynqcnWxuib85KcDcTx7s', '64UkjvZVg6QpzPFKupA4Lz', '3tA12hlBltPtw6ArshsopB', '15Y949TGjUppdT78h0S49P', '5sG65w8uKtjsJw7nc845Nc', '5OO7ybh0GQlXslHX4U4Vgr', '27F7BWz4WuC8GuSIcFbx1a', '7EHAXZenBzmGCpccWCyg8z', '2NjeQLvFsfeKdZoA7dbfL1', '3EikYy40GMSp8l5mDV6IQo', '2gQYziDV5cSTRSqr6akzi5', '51tkEMpAkyzv1j6PqVeKqp', '3aUFrxO1B8EW63QchEl3wX', '3aaRK3htdVkK2pqOI64FEb', '5dv1VQpsAbUv8xf8MrhoqA', '0n22yqkitWec0PV6tibWEO', '5VuxWXbt7XENQCtE9TzpTv', '68ClfNyV71AjdTfGIyu4Gx', '37F0uwRSrdzkBiuj0D5UHI', '0dcf0L6F1LUA1nE2zWH4J2', '4u28xxkgsCYGjQ9rJst8Bp', '45Egmo7icyopuzJN0oMEdk', '0sSNa2XDu7dxbnjK0lKnDH', '3NWTRZ0A8xKlBP1qgNftql', '754wVXWrtf1X3ZHQOFFsnR', '6NblUCwJXYkQlQ6LhcmSlQ', '1m8WpLYXEiNVZchsWEcCSy', '5Muz0cWMeAZjEtpGw3pGZa', '58q1QOTQs4D92n2mP2gLef', '74fQgHleHZ4V7Gm1XYcGkj', '1w4zsr8vQDFkVDOX22hEOF', '3PA8M2alFWVw2WUIuACYRv', '423VyysMCduMmvqDH5oGEB', '4KwIqqiWKTbWIaxrSurXQE', '4YjfOgHu4fGEIJsY4BUvpv', '5V7atDVtDeuaG972HdvLnr', '7FEwp8BavoEVE3AnxJDchc', '6VwBbL8CzPiC4QV66ay7oR', '62YAKv9ak7mxrNRdhe7Pe9', '2rzpeCJ9pACIsbDo071pQz', '68ClfNyV71AjdTfGIyu4Gx', '1gm616Plq4ScqNi7TVkZ5N', '5fohLPNqO6TqwrZ7BoUWUT', '46X8c9qJzpBLYcos3OX0CE', '3uSSjnDMmoyERaAK9KvpJR', '2ZVRyUFQTI5K99wpJElGrD', '43PuMrRfbyyuz4QpZ3oAwN', '6KFaHC9G178beAp7P0Vi5S', '4MPTj8lMMvxLwT3EwuXFop', '1cOi4OoRlpOznxiRa8FfHf', '5VlLgvo3syBiYti8gw5yYd', '1ItgWXku1pz1PhUgFPvVDc', '2Kr2HLDLCWGPFvu3HxXQQD', '1b7tZPt3S2UN6OrPUBqGCp', '6NQuzxejUwRLCVE4KWJ0pj', '6wmAHw1szh5RCKSRjiXhPe', '6ac4lvV0LKQlbHYXJ7vTDb', '4rU2eED2YPnmmrVmLlaYVI', '5mdI4cjioO7Ufvcrt283ij', '3arKRnq9OUd7yq6LRwVW8I', '5vA6wWjzDxFFIWsYh04jCu', '36ONiya0OANYknz0GgJmwB', '25VgWs8TUDSUJkHQYdsh8C', '6wWaVoUOzLQJHd3bWAUpdZ', '27tCCThExMJEQh7lMp3Sd4', '1SuznrYulmD8HMZrenI0VU', '5dHyRoSuw68cVkKW7VraJc', '08aCW0RGOaR53En8g7e3HJ', '1mbuSss0OVqfS00y7yCNCZ', '0hAMkY2kwdXPPDfQ1e3BmJ', '70pZIQqQ37SrNCADx0FiPN', '6Do1BUHImdwIu6Siq6RV9z', '2P2IW4uHN1ZU4ufWYqkolo', '20zcHCOQ5h5T6vmYVmFhYs', '4yOT0bYT83QZ0aXlJ3Tb2p', '6nDKrPlXdpomGBgAlO7UdP', '1qa6isID8jLWlqWfTR37AB', '0lsRatBUs9HNIZAmoGABzk', '3I7OmVsk4Hm5LBbs2GmhlD', '3ac4JtHUifmk3d4oNvrB2o', '119c93MHjrDLJTApCVGpvx', '31vQpwkKkA1OhNRo7rzNZ4', '6VHLa2Ov2NnnekRjLpAgdv', '5khPq0vRppL9gco0IEMJh6', '5gW5dSy3vXJxgzma4rQuzH', '4cTm3Ev9bUvy4ChJjB1nhl', '364dI1bYnvamSnBJ8JcNzN', '2zTjF6OGxklU5Ulv7iTf4R', '05Rfvr1ohaKOSPkb5qrP58', '6iT0RT8KBWsaYOHGPJchGS', '58pJZsMEPXmYX8gvXWyt3V', '1Zis1mkb7EzAX334R9BZUu', '4kdjHU5lzooUP7kkzQqX0Q', '3cphb8kdsjElYR7r5icK3H', '0aO3OoQ9VdjiefNa2lwLnn', '3PdcxgzpWzAsUGgkmykIFc', '5dqPiZRxbnm3o6CiC4H4Mw', '5XgY31mRfciAX9aWufAsxh', '29TPjc8wxfz4XMn21O7VsZ', '6Ee4FnGvp1r6jvJNRHXpCD', '4lsHZ92XCFOQfzJFBTluk8', '7pH9qFDfm4tmlEXn9O1VeN', '41AF4aPSqL5LXqHJ71H6sV', '1VbBTopCa3CLbWSqVO4fHf', '3w98AIe6gn8HxrW80mMQ2E', '12H6iTEgiX4HPnCPphYSMk', '2CNYns4imTBYe52m98xXqM', '43BlKpJcSrC9AsJ3F1DKg9', '1tkg4EHVoqnhR6iFEXb60y', '7aPJPm0yFfRrTuBw05qVE3', '2AT8iROs4FQueDv2c8q2KE', '7kF76Dlhew7jaUxaBIZpIQ', '29EkMZmUNz1WsuzaMtVo1i', '21sa0bWFqOFEYPtahlt4Lt', '4OkPamOn5GofkOQu64Z4eR', '28J7s6ylqLYzBUTBSUyEjm', '2LGdO5MtFdyphi2EihANZG', '7co8zvT6HJuyT81IDukyID', '3nhzPKCm2yqGmgEhdAg19u', '141YScqYkYhHPpqWhIBebc', '6wNUBZNWFxdUGof6vkaykE', '0NdTUS4UiNYCNn5FgVqKQY', '4sebUbjqbcgDSwG6PbSGI0', '29iHI9FTSHeC4x4ZUnU5Id', '3msS7xaelR4Oa0n7IwHkgF', '3zQJdKcFjiHEz7Xqum4bom', '0fnYEb4IPNMlv46bZweUu8', '6ReKt5x6FVUXTMdWNC6GAQ', '5eyTC5GZzpzlN7YRO9AoPf', '7BuzJmV2h6eBbSDdRaDY7C', '6Slvi85s1hIaeykjvDe1xk', '2vQQfWTanvD99OeHLAoyhW', '45QyGXbqTWaFUrIKe2ugs3', '0hAMkY2kwdXPPDfQ1e3BmJ', '55rs5f3NvawRGMO666XqL5', '4iwChnVkJz2STSniIn3QMR', '0ydgFPcYrxaHgVuLd17mjh', '3huV7eiNpaQlCB3LbZi9bB', '5G1sTBGbZT5o4PNRc75RKI', '0hIGUS1PQbv5NIrHIf6Fza', '6qZjm61s6u8Ead9sWxCDro', '11DdPGqDsM3ux1gVAqUIln', '7gPd55hW5pVjTm3H9S1Wbv', '3BcQFPRZuuUClWStz29WjN', '0DGle0LBi7CxDZNQRQUtcC', '57Xjny5yNzAcsxnusKmAfA', '11xRCe6bPQ9fRhz70dqF9N', '07tOsOR7E9zW89v2FqzsdG', '5mHVURjIu3spVJSGjQ3kXS', '3FJgTJCXXV2CjURjdNq1DP', '5HRLyB5XUOEYvpYtMYjWbD', '2Mx2IvmTf0j5xnWBtx7ZbY', '0bV0qmQTZzTUIVM1nFkizh', '4XTWiowLNAWfdc3YNq59VU', '61au8r2wPFZVPhEG11bQTx', '44ByUAJyV8ZcRW3y5gqMpU', '6Bf60fQDrQ2Mu2hi9dPfpI', '3zgeIdqvFiQiBDVDYJqRxZ', '0uLijBRekQsSPwHs1LIEXz', '4bB58Xbl7XnCtOR085gLW4', '5aKQdnJvGQaqVC4JIPm2up', '5LWKsMeXaYBoKzCHk8syQy', '3Vb00PqddKXmhj5wT2RDNl', '2MTSo2SGQ0oVKgPu99x3Df', '2iq1Y1ARKcj9Tu8eYla0Ba', '297rZsBEjFw9d0Gl3iBLnd', '1SAsFqnDBZLdGiA0tSZooU', '3t7wojJJqpSNCASv5wOe5I', '4ucIT1IkBzM341Clwl2JE6', '0a0KZCfAVPiPs09O6cv4Eo', '5UNxkjP1OnSUsKrt54v99f', '6ptJ3y9QvcFgoH7eJIQDf3', '3ngn7jTPvsIrTwaTkiJpo0', '6cvRSOoJKvQwS0oDt0TePP', '7zDcDGNL7UQ2rN92tEmNev', '1cyP2lN6FqZsF8eO1L62Qv', '1wmQEa5wqsnhBaNNYVwet5', '0eWxDnXDbsR4h1kVk6rZdy', '63SevszngYpZOwf63o61K4', '0T4YziOpifV4Eo9XsMPp2X', '6TUd1PURo0RZ6cdI5DlOuB', '4j58N9Ww4rpuOxiTK2sFVZ', '1962HRBinZRAbyfm75CsK9', '7a0mPDySTtLmgE3NoIBNJp', '6uUcmhHEEeBcdQ6EZOC628', '62crJjeje0T8g5N3Tuq00V', '290xSzR8Ee9fm82poMg4od', '0GkJgMNRd3ssteeTdOIOTF', '7lIe06uC8SYaQ1rMRo0Q91', '1gmHEeoTT2DXJy0Gcojoya', '0JMk9csEVM46TH2OwFU5aY', '1pbMjnxKhid1Yk2qIFWHsU', '65c7ThLCjdleiLILiri41Z', '6nlA3j4n3KAY8AgEGmos2o', '6KwSdmAba8BxoxVXPw70LO', '39wHJyoHNlaFEFUKlDzNo3', '1quuqraz6z6RusyJZtyDcm', '40LaBY0pjfaiGWeMCPw55O', '11aW6UDH8AtJT7GNplhvqG', '1kRTlW6idFA2IGhJrMmiyF', '5U6ZzFbxI9AHpWUWEy8rw7', '0R9U7yIlLm8KAL6iQbwKKT', '3Ved9WUBQuITUbuTBJhrF4', '0N0ZPAQXozVq5FXIj2Cugl', '20XFcmUTqrC7S7Sw2TGj5I', '7vptmeNwSEVkcwDdqk7UQO', '3oXhjsNUftmucNVd4DwMuH', '0wY9rA9fJkuESyYm9uzVK5', '3eIzChv8AqByBiRwxDMFxN', '2g20BLinFvXA6l47j4igE5', '3VeuvRWfJLSOzeVPrgi5MR', '0Z6MSguQBqtbnNlnxJ8Huo', '7HRv1sYuwgoea1m0JRvChV', '6n4g9rQE65ZgPQo32mWixM', '6XrWatmV4oKg4d4fskOG2e', '1QKlSBwQaa26y2Un7XJsaV', '0z95CqBxQnSQhNnoWTZJKL', '6YGVK9xgH2LI4Ghw6gqUxx', '18cvSBKwnCxOqV4AP3C5Al', '3forXE5gmKaj2JWrfij8Vm', '2fKEunM0KZVpVLwlvmVlDZ', '6IexNWMbsvI5x0T0CQX3yT', '5wKFSRsJUTS9mUHvou84EK', '2FUHFEMdXa930HlZVooFPn', '3jFECcEG1WHQwhv3uRx4Pp', '21VCYxPZ8A2XpSNUyQCT3B', '0zZRYdXy3STXl8o847K5By', '1DriOnyA5tFc2bUdM6nglI', '6QZtmgaUkxWk3Rlq3Upll6', '0TCnOEVeLQMXOUrpPlM7uY', '7w9hjxDUpwwkgO9qOQ9Sr2', '3IpczgbsvTt78PZm00fjgr', '3VjiqVjB7e4FmDnIXpYy4r', '1TZ5OJtoIqW51pCKx2wjUN', '4hVK2ZlGdIvd15YV9v8PUM', '1MweULEzWWg5WTlBWMZosS', '5tcuzbAuNSGrwC2pcuXbXH', '3UhRKYA9kLmbb77hzdTMbR', '3AbHlrrandoNbjoAAWKwsR', '0G2HNubDqzaNP12wcGD9en', '2hPNuVVSV1tqiD2uPlfehz', '1nMULe4EavfF8SZHQ3Pag9', '6vdTD6iooiodJ2Izvn1zLt', '35qMZHasbrz3Idp4CKExIa', '3XmJofTYI6vDXmOB0Ko4yF', '3r0RSlG6ELThukVFzrkRMB', '6Nle9hKrkL1wQpwNfEkxjh', '7eqoqGkKwgOaWNNHx90uEZ', '2q0VexHJirnUPnEOhr2DxK', '4osgfFTICMkcGbbigdsa53', '11xRCe6bPQ9fRhz70dqF9N', '07tOsOR7E9zW89v2FqzsdG', '5HRLyB5XUOEYvpYtMYjWbD', '4XTWiowLNAWfdc3YNq59VU', '7vpvMspRgoeBTxOwP44a1Q', '297rZsBEjFw9d0Gl3iBLnd', '0YOTE8vEGduSABT8QE55rK', '15EPc80XuFrb2LmOzGjuRg', '5MjAFPcmrR1DYCgZrXCN4d', '01JPQ87UHeGysPVwTqMJHK', '7dveZsk7FG3K9uHCpUOh5A', '6H0QxFqbypn4lZpdt1MYij', '6olUplztLFFfU7fMYmFXOP', '7pRcWov3NHxi0GDkKdbSb0', '322vI2bPcLJeDxltXD9hzD', '4F07ku5lMBIoybFPStM2j4', '7cstOrIlIHaEZSHGHzldza', '4PlG0P51hNFQ5PjJKIySso', '7b9h63I7EafcW2pVS9pcUr', '3ngn7jTPvsIrTwaTkiJpo0', '44ByUAJyV8ZcRW3y5gqMpU', '0jqBo5RYn008f4ZY8kPewW', '63SevszngYpZOwf63o61K4', '7a0mPDySTtLmgE3NoIBNJp', '4j58N9Ww4rpuOxiTK2sFVZ', '62crJjeje0T8g5N3Tuq00V', '1PVza5KmhSJhz12OewWciE', '4j3GWI86JvSaF0BLdmgcfF', '7p4vHnYXkxlzvfePJVpcTr', '7vptmeNwSEVkcwDdqk7UQO', '45Egmo7icyopuzJN0oMEdk', '1t4pPnbkOjzoA5RvsDjvUU', '2g20BLinFvXA6l47j4igE5', '3VeuvRWfJLSOzeVPrgi5MR', '2vRDFgdJiILUdDOLL8hLH3', '0At2qAoaVjIwWNAqrscXli', '6TodWdTSDfzwgYynTZSvJn', '3b3SSIcnE9a77XoUEtG5Jm', '09GCuO9yQH5R1E8HYknrV8', '3jFECcEG1WHQwhv3uRx4Pp', '0TCnOEVeLQMXOUrpPlM7uY', '1MweULEzWWg5WTlBWMZosS', '1eu6vM3Q8wYKGYZCn26uMb', '6dykAIAUe10GWeNUs0Rsre', '6R6ihJhRbgu7JxJKIbW57w', '6gXrEUzibufX9xYPk3HD5p', '20MxJN12WEqU5eWsuCrwM5', '3e0FzZjTXOUtiJGSClOBrI', '4alHo6RGd0D3OUbTPExTHN', '6qbdHcAXdvJ5mdMfsp38GX', '2vz1CsL5WBsbpBcwgboTAw', '6rFJnIyZLTVUD53lZYoGvD', '41dDygR3r7e926oGUXfrLt', '4bB58Xbl7XnCtOR085gLW4', '2VM3zIDZUgC7QONMybvjrb', '1hnKJ3U8Tew3ezqx9ZU8WX', '7jHOi7ls5RjJaOtmMSxY8w', '41EqiSpXpYSDcZjgelD1Fe', '5HQ639Z3ms3hnZx0KfWnkp']\n"
     ]
    },
    {
     "ename": "AttributeError",
     "evalue": "'NoneType' object has no attribute 'split'",
     "output_type": "error",
     "traceback": [
      "\u001b[1;31m---------------------------------------------------------------------------\u001b[0m",
      "\u001b[1;31mAttributeError\u001b[0m                            Traceback (most recent call last)",
      "\u001b[1;32m<ipython-input-23-1eb012b888c5>\u001b[0m in \u001b[0;36m<module>\u001b[1;34m\u001b[0m\n\u001b[1;32m----> 1\u001b[1;33m \u001b[0mtest2\u001b[0m \u001b[1;33m=\u001b[0m \u001b[0mget_playlist_tracks_audio_features\u001b[0m\u001b[1;33m(\u001b[0m\u001b[0msp\u001b[0m\u001b[1;33m,\u001b[0m \u001b[1;34m\"ben.doan4366\"\u001b[0m\u001b[1;33m)\u001b[0m\u001b[1;33m\u001b[0m\u001b[1;33m\u001b[0m\u001b[0m\n\u001b[0m",
      "\u001b[1;32m<ipython-input-3-28fdb45d34ed>\u001b[0m in \u001b[0;36mget_playlist_tracks_audio_features\u001b[1;34m(spotipy, user)\u001b[0m\n\u001b[0;32m     35\u001b[0m     \u001b[0mplaylist_track_ids_list\u001b[0m \u001b[1;33m=\u001b[0m \u001b[0mplaylist_items_dataframe\u001b[0m\u001b[1;33m[\u001b[0m\u001b[1;34m\"id\"\u001b[0m\u001b[1;33m]\u001b[0m\u001b[1;33m.\u001b[0m\u001b[0mtolist\u001b[0m\u001b[1;33m(\u001b[0m\u001b[1;33m)\u001b[0m\u001b[1;33m\u001b[0m\u001b[1;33m\u001b[0m\u001b[0m\n\u001b[0;32m     36\u001b[0m     \u001b[0mprint\u001b[0m\u001b[1;33m(\u001b[0m\u001b[0mplaylist_track_ids_list\u001b[0m\u001b[1;33m)\u001b[0m\u001b[1;33m\u001b[0m\u001b[1;33m\u001b[0m\u001b[0m\n\u001b[1;32m---> 37\u001b[1;33m     \u001b[0mplaylist_audio_features\u001b[0m \u001b[1;33m=\u001b[0m \u001b[0mget_track_audio_features\u001b[0m\u001b[1;33m(\u001b[0m\u001b[0mspotipy\u001b[0m\u001b[1;33m,\u001b[0m \u001b[0mplaylist_track_ids_list\u001b[0m\u001b[1;33m)\u001b[0m\u001b[1;33m\u001b[0m\u001b[1;33m\u001b[0m\u001b[0m\n\u001b[0m\u001b[0;32m     38\u001b[0m \u001b[1;33m\u001b[0m\u001b[0m\n\u001b[0;32m     39\u001b[0m     \u001b[0mplaylist_audio_features_dataframe\u001b[0m \u001b[1;33m=\u001b[0m \u001b[0mpd\u001b[0m\u001b[1;33m.\u001b[0m\u001b[0mDataFrame\u001b[0m\u001b[1;33m.\u001b[0m\u001b[0mfrom_dict\u001b[0m\u001b[1;33m(\u001b[0m\u001b[0mplaylist_audio_features\u001b[0m\u001b[1;33m)\u001b[0m\u001b[1;33m\u001b[0m\u001b[1;33m\u001b[0m\u001b[0m\n",
      "\u001b[1;32m<ipython-input-3-28fdb45d34ed>\u001b[0m in \u001b[0;36mget_track_audio_features\u001b[1;34m(spotipy, track_id)\u001b[0m\n\u001b[0;32m     25\u001b[0m \u001b[1;33m\u001b[0m\u001b[0m\n\u001b[0;32m     26\u001b[0m \u001b[1;32mdef\u001b[0m \u001b[0mget_track_audio_features\u001b[0m\u001b[1;33m(\u001b[0m\u001b[0mspotipy\u001b[0m\u001b[1;33m,\u001b[0m \u001b[0mtrack_id\u001b[0m\u001b[1;33m)\u001b[0m\u001b[1;33m:\u001b[0m\u001b[1;33m\u001b[0m\u001b[1;33m\u001b[0m\u001b[0m\n\u001b[1;32m---> 27\u001b[1;33m     \u001b[0mtrack_audio_features\u001b[0m \u001b[1;33m=\u001b[0m \u001b[0mspotipy\u001b[0m\u001b[1;33m.\u001b[0m\u001b[0maudio_features\u001b[0m\u001b[1;33m(\u001b[0m\u001b[0mtrack_id\u001b[0m\u001b[1;33m)\u001b[0m\u001b[1;33m\u001b[0m\u001b[1;33m\u001b[0m\u001b[0m\n\u001b[0m\u001b[0;32m     28\u001b[0m \u001b[1;33m\u001b[0m\u001b[0m\n\u001b[0;32m     29\u001b[0m     \u001b[1;32mreturn\u001b[0m \u001b[0mtrack_audio_features\u001b[0m\u001b[1;33m\u001b[0m\u001b[1;33m\u001b[0m\u001b[0m\n",
      "\u001b[1;32m~\\Anaconda3\\lib\\site-packages\\spotipy\\client.py\u001b[0m in \u001b[0;36maudio_features\u001b[1;34m(self, tracks)\u001b[0m\n\u001b[0;32m   1674\u001b[0m             \u001b[0mresults\u001b[0m \u001b[1;33m=\u001b[0m \u001b[0mself\u001b[0m\u001b[1;33m.\u001b[0m\u001b[0m_get\u001b[0m\u001b[1;33m(\u001b[0m\u001b[1;34m\"audio-features/?ids=\"\u001b[0m \u001b[1;33m+\u001b[0m \u001b[0mtrackid\u001b[0m\u001b[1;33m)\u001b[0m\u001b[1;33m\u001b[0m\u001b[1;33m\u001b[0m\u001b[0m\n\u001b[0;32m   1675\u001b[0m         \u001b[1;32melse\u001b[0m\u001b[1;33m:\u001b[0m\u001b[1;33m\u001b[0m\u001b[1;33m\u001b[0m\u001b[0m\n\u001b[1;32m-> 1676\u001b[1;33m             \u001b[0mtlist\u001b[0m \u001b[1;33m=\u001b[0m \u001b[1;33m[\u001b[0m\u001b[0mself\u001b[0m\u001b[1;33m.\u001b[0m\u001b[0m_get_id\u001b[0m\u001b[1;33m(\u001b[0m\u001b[1;34m\"track\"\u001b[0m\u001b[1;33m,\u001b[0m \u001b[0mt\u001b[0m\u001b[1;33m)\u001b[0m \u001b[1;32mfor\u001b[0m \u001b[0mt\u001b[0m \u001b[1;32min\u001b[0m \u001b[0mtracks\u001b[0m\u001b[1;33m]\u001b[0m\u001b[1;33m\u001b[0m\u001b[1;33m\u001b[0m\u001b[0m\n\u001b[0m\u001b[0;32m   1677\u001b[0m             \u001b[0mresults\u001b[0m \u001b[1;33m=\u001b[0m \u001b[0mself\u001b[0m\u001b[1;33m.\u001b[0m\u001b[0m_get\u001b[0m\u001b[1;33m(\u001b[0m\u001b[1;34m\"audio-features/?ids=\"\u001b[0m \u001b[1;33m+\u001b[0m \u001b[1;34m\",\"\u001b[0m\u001b[1;33m.\u001b[0m\u001b[0mjoin\u001b[0m\u001b[1;33m(\u001b[0m\u001b[0mtlist\u001b[0m\u001b[1;33m)\u001b[0m\u001b[1;33m)\u001b[0m\u001b[1;33m\u001b[0m\u001b[1;33m\u001b[0m\u001b[0m\n\u001b[0;32m   1678\u001b[0m         \u001b[1;31m# the response has changed, look for the new style first, and if\u001b[0m\u001b[1;33m\u001b[0m\u001b[1;33m\u001b[0m\u001b[1;33m\u001b[0m\u001b[0m\n",
      "\u001b[1;32m~\\Anaconda3\\lib\\site-packages\\spotipy\\client.py\u001b[0m in \u001b[0;36m<listcomp>\u001b[1;34m(.0)\u001b[0m\n\u001b[0;32m   1674\u001b[0m             \u001b[0mresults\u001b[0m \u001b[1;33m=\u001b[0m \u001b[0mself\u001b[0m\u001b[1;33m.\u001b[0m\u001b[0m_get\u001b[0m\u001b[1;33m(\u001b[0m\u001b[1;34m\"audio-features/?ids=\"\u001b[0m \u001b[1;33m+\u001b[0m \u001b[0mtrackid\u001b[0m\u001b[1;33m)\u001b[0m\u001b[1;33m\u001b[0m\u001b[1;33m\u001b[0m\u001b[0m\n\u001b[0;32m   1675\u001b[0m         \u001b[1;32melse\u001b[0m\u001b[1;33m:\u001b[0m\u001b[1;33m\u001b[0m\u001b[1;33m\u001b[0m\u001b[0m\n\u001b[1;32m-> 1676\u001b[1;33m             \u001b[0mtlist\u001b[0m \u001b[1;33m=\u001b[0m \u001b[1;33m[\u001b[0m\u001b[0mself\u001b[0m\u001b[1;33m.\u001b[0m\u001b[0m_get_id\u001b[0m\u001b[1;33m(\u001b[0m\u001b[1;34m\"track\"\u001b[0m\u001b[1;33m,\u001b[0m \u001b[0mt\u001b[0m\u001b[1;33m)\u001b[0m \u001b[1;32mfor\u001b[0m \u001b[0mt\u001b[0m \u001b[1;32min\u001b[0m \u001b[0mtracks\u001b[0m\u001b[1;33m]\u001b[0m\u001b[1;33m\u001b[0m\u001b[1;33m\u001b[0m\u001b[0m\n\u001b[0m\u001b[0;32m   1677\u001b[0m             \u001b[0mresults\u001b[0m \u001b[1;33m=\u001b[0m \u001b[0mself\u001b[0m\u001b[1;33m.\u001b[0m\u001b[0m_get\u001b[0m\u001b[1;33m(\u001b[0m\u001b[1;34m\"audio-features/?ids=\"\u001b[0m \u001b[1;33m+\u001b[0m \u001b[1;34m\",\"\u001b[0m\u001b[1;33m.\u001b[0m\u001b[0mjoin\u001b[0m\u001b[1;33m(\u001b[0m\u001b[0mtlist\u001b[0m\u001b[1;33m)\u001b[0m\u001b[1;33m)\u001b[0m\u001b[1;33m\u001b[0m\u001b[1;33m\u001b[0m\u001b[0m\n\u001b[0;32m   1678\u001b[0m         \u001b[1;31m# the response has changed, look for the new style first, and if\u001b[0m\u001b[1;33m\u001b[0m\u001b[1;33m\u001b[0m\u001b[1;33m\u001b[0m\u001b[0m\n",
      "\u001b[1;32m~\\Anaconda3\\lib\\site-packages\\spotipy\\client.py\u001b[0m in \u001b[0;36m_get_id\u001b[1;34m(self, type, id)\u001b[0m\n\u001b[0;32m   1903\u001b[0m \u001b[1;33m\u001b[0m\u001b[0m\n\u001b[0;32m   1904\u001b[0m     \u001b[1;32mdef\u001b[0m \u001b[0m_get_id\u001b[0m\u001b[1;33m(\u001b[0m\u001b[0mself\u001b[0m\u001b[1;33m,\u001b[0m \u001b[0mtype\u001b[0m\u001b[1;33m,\u001b[0m \u001b[0mid\u001b[0m\u001b[1;33m)\u001b[0m\u001b[1;33m:\u001b[0m\u001b[1;33m\u001b[0m\u001b[1;33m\u001b[0m\u001b[0m\n\u001b[1;32m-> 1905\u001b[1;33m         \u001b[0mfields\u001b[0m \u001b[1;33m=\u001b[0m \u001b[0mid\u001b[0m\u001b[1;33m.\u001b[0m\u001b[0msplit\u001b[0m\u001b[1;33m(\u001b[0m\u001b[1;34m\":\"\u001b[0m\u001b[1;33m)\u001b[0m\u001b[1;33m\u001b[0m\u001b[1;33m\u001b[0m\u001b[0m\n\u001b[0m\u001b[0;32m   1906\u001b[0m         \u001b[1;32mif\u001b[0m \u001b[0mlen\u001b[0m\u001b[1;33m(\u001b[0m\u001b[0mfields\u001b[0m\u001b[1;33m)\u001b[0m \u001b[1;33m>=\u001b[0m \u001b[1;36m3\u001b[0m\u001b[1;33m:\u001b[0m\u001b[1;33m\u001b[0m\u001b[1;33m\u001b[0m\u001b[0m\n\u001b[0;32m   1907\u001b[0m             \u001b[1;32mif\u001b[0m \u001b[0mtype\u001b[0m \u001b[1;33m!=\u001b[0m \u001b[0mfields\u001b[0m\u001b[1;33m[\u001b[0m\u001b[1;33m-\u001b[0m\u001b[1;36m2\u001b[0m\u001b[1;33m]\u001b[0m\u001b[1;33m:\u001b[0m\u001b[1;33m\u001b[0m\u001b[1;33m\u001b[0m\u001b[0m\n",
      "\u001b[1;31mAttributeError\u001b[0m: 'NoneType' object has no attribute 'split'"
     ]
    }
   ],
   "source": [
    "test2 = get_playlist_tracks_audio_features(sp, \"ben.doan4366\")"
   ]
  },
  {
   "cell_type": "code",
   "execution_count": null,
   "metadata": {},
   "outputs": [],
   "source": []
  }
 ],
 "metadata": {
  "kernelspec": {
   "display_name": "venvs",
   "language": "python",
   "name": "venvs"
  },
  "language_info": {
   "codemirror_mode": {
    "name": "ipython",
    "version": 3
   },
   "file_extension": ".py",
   "mimetype": "text/x-python",
   "name": "python",
   "nbconvert_exporter": "python",
   "pygments_lexer": "ipython3",
   "version": "3.7.4"
  }
 },
 "nbformat": 4,
 "nbformat_minor": 2
}
